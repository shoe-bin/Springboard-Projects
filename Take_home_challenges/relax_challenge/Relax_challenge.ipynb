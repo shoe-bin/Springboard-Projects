{
 "cells": [
  {
   "cell_type": "code",
   "execution_count": 7,
   "id": "9cd4d40d",
   "metadata": {},
   "outputs": [],
   "source": [
    "import pandas as pd\n",
    "import numpy as np\n",
    "import matplotlib.pyplot as plt\n",
    "import seaborn as sns\n",
    "import datetime"
   ]
  },
  {
   "cell_type": "code",
   "execution_count": 12,
   "id": "7b45fd3d",
   "metadata": {},
   "outputs": [
    {
     "data": {
      "text/html": [
       "<div>\n",
       "<style scoped>\n",
       "    .dataframe tbody tr th:only-of-type {\n",
       "        vertical-align: middle;\n",
       "    }\n",
       "\n",
       "    .dataframe tbody tr th {\n",
       "        vertical-align: top;\n",
       "    }\n",
       "\n",
       "    .dataframe thead th {\n",
       "        text-align: right;\n",
       "    }\n",
       "</style>\n",
       "<table border=\"1\" class=\"dataframe\">\n",
       "  <thead>\n",
       "    <tr style=\"text-align: right;\">\n",
       "      <th></th>\n",
       "      <th>time_stamp</th>\n",
       "      <th>user_id</th>\n",
       "      <th>visited</th>\n",
       "    </tr>\n",
       "  </thead>\n",
       "  <tbody>\n",
       "    <tr>\n",
       "      <th>0</th>\n",
       "      <td>2014-04-22 03:53:30</td>\n",
       "      <td>1</td>\n",
       "      <td>1</td>\n",
       "    </tr>\n",
       "    <tr>\n",
       "      <th>1</th>\n",
       "      <td>2013-11-15 03:45:04</td>\n",
       "      <td>2</td>\n",
       "      <td>1</td>\n",
       "    </tr>\n",
       "    <tr>\n",
       "      <th>2</th>\n",
       "      <td>2013-11-29 03:45:04</td>\n",
       "      <td>2</td>\n",
       "      <td>1</td>\n",
       "    </tr>\n",
       "    <tr>\n",
       "      <th>3</th>\n",
       "      <td>2013-12-09 03:45:04</td>\n",
       "      <td>2</td>\n",
       "      <td>1</td>\n",
       "    </tr>\n",
       "    <tr>\n",
       "      <th>4</th>\n",
       "      <td>2013-12-25 03:45:04</td>\n",
       "      <td>2</td>\n",
       "      <td>1</td>\n",
       "    </tr>\n",
       "  </tbody>\n",
       "</table>\n",
       "</div>"
      ],
      "text/plain": [
       "            time_stamp  user_id  visited\n",
       "0  2014-04-22 03:53:30        1        1\n",
       "1  2013-11-15 03:45:04        2        1\n",
       "2  2013-11-29 03:45:04        2        1\n",
       "3  2013-12-09 03:45:04        2        1\n",
       "4  2013-12-25 03:45:04        2        1"
      ]
     },
     "execution_count": 12,
     "metadata": {},
     "output_type": "execute_result"
    }
   ],
   "source": [
    "df_activity = pd.read_csv('takehome_user_engagement.csv')\n",
    "df_activity.head()"
   ]
  },
  {
   "cell_type": "code",
   "execution_count": 99,
   "id": "bf2bdc75",
   "metadata": {},
   "outputs": [
    {
     "name": "stdout",
     "output_type": "stream",
     "text": [
      "8823\n",
      "<class 'pandas.core.frame.DataFrame'>\n",
      "RangeIndex: 207917 entries, 0 to 207916\n",
      "Data columns (total 4 columns):\n",
      " #   Column      Non-Null Count   Dtype         \n",
      "---  ------      --------------   -----         \n",
      " 0   time_stamp  207917 non-null  datetime64[ns]\n",
      " 1   user_id     207917 non-null  int64         \n",
      " 2   visited     207917 non-null  int64         \n",
      " 3   date        207917 non-null  datetime64[ns]\n",
      "dtypes: datetime64[ns](2), int64(2)\n",
      "memory usage: 6.3 MB\n"
     ]
    },
    {
     "data": {
      "text/html": [
       "<div>\n",
       "<style scoped>\n",
       "    .dataframe tbody tr th:only-of-type {\n",
       "        vertical-align: middle;\n",
       "    }\n",
       "\n",
       "    .dataframe tbody tr th {\n",
       "        vertical-align: top;\n",
       "    }\n",
       "\n",
       "    .dataframe thead th {\n",
       "        text-align: right;\n",
       "    }\n",
       "</style>\n",
       "<table border=\"1\" class=\"dataframe\">\n",
       "  <thead>\n",
       "    <tr style=\"text-align: right;\">\n",
       "      <th></th>\n",
       "      <th>time_stamp</th>\n",
       "      <th>user_id</th>\n",
       "      <th>visited</th>\n",
       "      <th>date</th>\n",
       "    </tr>\n",
       "  </thead>\n",
       "  <tbody>\n",
       "    <tr>\n",
       "      <th>0</th>\n",
       "      <td>2014-04-22 03:53:30</td>\n",
       "      <td>1</td>\n",
       "      <td>1</td>\n",
       "      <td>2014-04-22</td>\n",
       "    </tr>\n",
       "    <tr>\n",
       "      <th>1</th>\n",
       "      <td>2013-11-15 03:45:04</td>\n",
       "      <td>2</td>\n",
       "      <td>1</td>\n",
       "      <td>2013-11-15</td>\n",
       "    </tr>\n",
       "    <tr>\n",
       "      <th>2</th>\n",
       "      <td>2013-11-29 03:45:04</td>\n",
       "      <td>2</td>\n",
       "      <td>1</td>\n",
       "      <td>2013-11-29</td>\n",
       "    </tr>\n",
       "    <tr>\n",
       "      <th>3</th>\n",
       "      <td>2013-12-09 03:45:04</td>\n",
       "      <td>2</td>\n",
       "      <td>1</td>\n",
       "      <td>2013-12-09</td>\n",
       "    </tr>\n",
       "    <tr>\n",
       "      <th>4</th>\n",
       "      <td>2013-12-25 03:45:04</td>\n",
       "      <td>2</td>\n",
       "      <td>1</td>\n",
       "      <td>2013-12-25</td>\n",
       "    </tr>\n",
       "  </tbody>\n",
       "</table>\n",
       "</div>"
      ],
      "text/plain": [
       "           time_stamp  user_id  visited       date\n",
       "0 2014-04-22 03:53:30        1        1 2014-04-22\n",
       "1 2013-11-15 03:45:04        2        1 2013-11-15\n",
       "2 2013-11-29 03:45:04        2        1 2013-11-29\n",
       "3 2013-12-09 03:45:04        2        1 2013-12-09\n",
       "4 2013-12-25 03:45:04        2        1 2013-12-25"
      ]
     },
     "execution_count": 99,
     "metadata": {},
     "output_type": "execute_result"
    }
   ],
   "source": [
    "print(df_activity['user_id'].nunique())\n",
    "df_activity['time_stamp'] = pd.to_datetime(df_activity['time_stamp'])\n",
    "df_activity.info()\n",
    "df_activity['date'] = pd.to_datetime(df_activity['time_stamp'].dt.date)\n",
    "df_activity.head()"
   ]
  },
  {
   "cell_type": "code",
   "execution_count": 103,
   "id": "4eec3903",
   "metadata": {},
   "outputs": [
    {
     "data": {
      "text/html": [
       "<div>\n",
       "<style scoped>\n",
       "    .dataframe tbody tr th:only-of-type {\n",
       "        vertical-align: middle;\n",
       "    }\n",
       "\n",
       "    .dataframe tbody tr th {\n",
       "        vertical-align: top;\n",
       "    }\n",
       "\n",
       "    .dataframe thead th {\n",
       "        text-align: right;\n",
       "    }\n",
       "</style>\n",
       "<table border=\"1\" class=\"dataframe\">\n",
       "  <thead>\n",
       "    <tr style=\"text-align: right;\">\n",
       "      <th></th>\n",
       "      <th>time_stamp</th>\n",
       "      <th>user_id</th>\n",
       "      <th>visited</th>\n",
       "      <th>date</th>\n",
       "    </tr>\n",
       "  </thead>\n",
       "  <tbody>\n",
       "    <tr>\n",
       "      <th>0</th>\n",
       "      <td>2014-04-22 03:53:30</td>\n",
       "      <td>1</td>\n",
       "      <td>1</td>\n",
       "      <td>2014-04-22</td>\n",
       "    </tr>\n",
       "    <tr>\n",
       "      <th>1</th>\n",
       "      <td>2013-11-15 03:45:04</td>\n",
       "      <td>2</td>\n",
       "      <td>1</td>\n",
       "      <td>2013-11-15</td>\n",
       "    </tr>\n",
       "    <tr>\n",
       "      <th>2</th>\n",
       "      <td>2013-11-29 03:45:04</td>\n",
       "      <td>2</td>\n",
       "      <td>1</td>\n",
       "      <td>2013-11-29</td>\n",
       "    </tr>\n",
       "    <tr>\n",
       "      <th>3</th>\n",
       "      <td>2013-12-09 03:45:04</td>\n",
       "      <td>2</td>\n",
       "      <td>1</td>\n",
       "      <td>2013-12-09</td>\n",
       "    </tr>\n",
       "    <tr>\n",
       "      <th>4</th>\n",
       "      <td>2013-12-25 03:45:04</td>\n",
       "      <td>2</td>\n",
       "      <td>1</td>\n",
       "      <td>2013-12-25</td>\n",
       "    </tr>\n",
       "    <tr>\n",
       "      <th>...</th>\n",
       "      <td>...</td>\n",
       "      <td>...</td>\n",
       "      <td>...</td>\n",
       "      <td>...</td>\n",
       "    </tr>\n",
       "    <tr>\n",
       "      <th>207912</th>\n",
       "      <td>2013-09-06 06:14:15</td>\n",
       "      <td>11996</td>\n",
       "      <td>1</td>\n",
       "      <td>2013-09-06</td>\n",
       "    </tr>\n",
       "    <tr>\n",
       "      <th>207913</th>\n",
       "      <td>2013-01-15 18:28:37</td>\n",
       "      <td>11997</td>\n",
       "      <td>1</td>\n",
       "      <td>2013-01-15</td>\n",
       "    </tr>\n",
       "    <tr>\n",
       "      <th>207914</th>\n",
       "      <td>2014-04-27 12:45:16</td>\n",
       "      <td>11998</td>\n",
       "      <td>1</td>\n",
       "      <td>2014-04-27</td>\n",
       "    </tr>\n",
       "    <tr>\n",
       "      <th>207915</th>\n",
       "      <td>2012-06-02 11:55:59</td>\n",
       "      <td>11999</td>\n",
       "      <td>1</td>\n",
       "      <td>2012-06-02</td>\n",
       "    </tr>\n",
       "    <tr>\n",
       "      <th>207916</th>\n",
       "      <td>2014-01-26 08:57:12</td>\n",
       "      <td>12000</td>\n",
       "      <td>1</td>\n",
       "      <td>2014-01-26</td>\n",
       "    </tr>\n",
       "  </tbody>\n",
       "</table>\n",
       "<p>207917 rows × 4 columns</p>\n",
       "</div>"
      ],
      "text/plain": [
       "                time_stamp  user_id  visited       date\n",
       "0      2014-04-22 03:53:30        1        1 2014-04-22\n",
       "1      2013-11-15 03:45:04        2        1 2013-11-15\n",
       "2      2013-11-29 03:45:04        2        1 2013-11-29\n",
       "3      2013-12-09 03:45:04        2        1 2013-12-09\n",
       "4      2013-12-25 03:45:04        2        1 2013-12-25\n",
       "...                    ...      ...      ...        ...\n",
       "207912 2013-09-06 06:14:15    11996        1 2013-09-06\n",
       "207913 2013-01-15 18:28:37    11997        1 2013-01-15\n",
       "207914 2014-04-27 12:45:16    11998        1 2014-04-27\n",
       "207915 2012-06-02 11:55:59    11999        1 2012-06-02\n",
       "207916 2014-01-26 08:57:12    12000        1 2014-01-26\n",
       "\n",
       "[207917 rows x 4 columns]"
      ]
     },
     "execution_count": 103,
     "metadata": {},
     "output_type": "execute_result"
    }
   ],
   "source": [
    "df_activity.sort_values(['user_id', 'date'])"
   ]
  },
  {
   "cell_type": "code",
   "execution_count": 127,
   "id": "36950803",
   "metadata": {},
   "outputs": [
    {
     "data": {
      "text/plain": [
       "Timestamp('2013-11-15 00:00:00')"
      ]
     },
     "execution_count": 127,
     "metadata": {},
     "output_type": "execute_result"
    }
   ],
   "source": [
    "df_activity[df_activity['user_id'] == 2]['date'].iloc[0]"
   ]
  },
  {
   "cell_type": "code",
   "execution_count": 122,
   "id": "392b8f0e",
   "metadata": {},
   "outputs": [
    {
     "data": {
      "text/plain": [
       "14"
      ]
     },
     "execution_count": 122,
     "metadata": {},
     "output_type": "execute_result"
    }
   ],
   "source": [
    "len(df_activity[df_activity['user_id'] == 2])"
   ]
  },
  {
   "cell_type": "code",
   "execution_count": 116,
   "id": "643278bd",
   "metadata": {},
   "outputs": [
    {
     "data": {
      "text/html": [
       "<div>\n",
       "<style scoped>\n",
       "    .dataframe tbody tr th:only-of-type {\n",
       "        vertical-align: middle;\n",
       "    }\n",
       "\n",
       "    .dataframe tbody tr th {\n",
       "        vertical-align: top;\n",
       "    }\n",
       "\n",
       "    .dataframe thead th {\n",
       "        text-align: right;\n",
       "    }\n",
       "</style>\n",
       "<table border=\"1\" class=\"dataframe\">\n",
       "  <thead>\n",
       "    <tr style=\"text-align: right;\">\n",
       "      <th></th>\n",
       "      <th>time_stamp</th>\n",
       "      <th>user_id</th>\n",
       "      <th>visited</th>\n",
       "      <th>date</th>\n",
       "      <th>adopted</th>\n",
       "    </tr>\n",
       "  </thead>\n",
       "  <tbody>\n",
       "    <tr>\n",
       "      <th>0</th>\n",
       "      <td>2014-04-22 03:53:30</td>\n",
       "      <td>1</td>\n",
       "      <td>1</td>\n",
       "      <td>2014-04-22</td>\n",
       "      <td>0</td>\n",
       "    </tr>\n",
       "    <tr>\n",
       "      <th>1</th>\n",
       "      <td>2013-11-15 03:45:04</td>\n",
       "      <td>2</td>\n",
       "      <td>1</td>\n",
       "      <td>2013-11-15</td>\n",
       "      <td>0</td>\n",
       "    </tr>\n",
       "    <tr>\n",
       "      <th>2</th>\n",
       "      <td>2013-11-29 03:45:04</td>\n",
       "      <td>2</td>\n",
       "      <td>1</td>\n",
       "      <td>2013-11-29</td>\n",
       "      <td>0</td>\n",
       "    </tr>\n",
       "    <tr>\n",
       "      <th>3</th>\n",
       "      <td>2013-12-09 03:45:04</td>\n",
       "      <td>2</td>\n",
       "      <td>1</td>\n",
       "      <td>2013-12-09</td>\n",
       "      <td>0</td>\n",
       "    </tr>\n",
       "    <tr>\n",
       "      <th>4</th>\n",
       "      <td>2013-12-25 03:45:04</td>\n",
       "      <td>2</td>\n",
       "      <td>1</td>\n",
       "      <td>2013-12-25</td>\n",
       "      <td>0</td>\n",
       "    </tr>\n",
       "    <tr>\n",
       "      <th>...</th>\n",
       "      <td>...</td>\n",
       "      <td>...</td>\n",
       "      <td>...</td>\n",
       "      <td>...</td>\n",
       "      <td>...</td>\n",
       "    </tr>\n",
       "    <tr>\n",
       "      <th>207912</th>\n",
       "      <td>2013-09-06 06:14:15</td>\n",
       "      <td>11996</td>\n",
       "      <td>1</td>\n",
       "      <td>2013-09-06</td>\n",
       "      <td>0</td>\n",
       "    </tr>\n",
       "    <tr>\n",
       "      <th>207913</th>\n",
       "      <td>2013-01-15 18:28:37</td>\n",
       "      <td>11997</td>\n",
       "      <td>1</td>\n",
       "      <td>2013-01-15</td>\n",
       "      <td>0</td>\n",
       "    </tr>\n",
       "    <tr>\n",
       "      <th>207914</th>\n",
       "      <td>2014-04-27 12:45:16</td>\n",
       "      <td>11998</td>\n",
       "      <td>1</td>\n",
       "      <td>2014-04-27</td>\n",
       "      <td>0</td>\n",
       "    </tr>\n",
       "    <tr>\n",
       "      <th>207915</th>\n",
       "      <td>2012-06-02 11:55:59</td>\n",
       "      <td>11999</td>\n",
       "      <td>1</td>\n",
       "      <td>2012-06-02</td>\n",
       "      <td>0</td>\n",
       "    </tr>\n",
       "    <tr>\n",
       "      <th>207916</th>\n",
       "      <td>2014-01-26 08:57:12</td>\n",
       "      <td>12000</td>\n",
       "      <td>1</td>\n",
       "      <td>2014-01-26</td>\n",
       "      <td>0</td>\n",
       "    </tr>\n",
       "  </tbody>\n",
       "</table>\n",
       "<p>207917 rows × 5 columns</p>\n",
       "</div>"
      ],
      "text/plain": [
       "                time_stamp  user_id  visited       date  adopted\n",
       "0      2014-04-22 03:53:30        1        1 2014-04-22        0\n",
       "1      2013-11-15 03:45:04        2        1 2013-11-15        0\n",
       "2      2013-11-29 03:45:04        2        1 2013-11-29        0\n",
       "3      2013-12-09 03:45:04        2        1 2013-12-09        0\n",
       "4      2013-12-25 03:45:04        2        1 2013-12-25        0\n",
       "...                    ...      ...      ...        ...      ...\n",
       "207912 2013-09-06 06:14:15    11996        1 2013-09-06        0\n",
       "207913 2013-01-15 18:28:37    11997        1 2013-01-15        0\n",
       "207914 2014-04-27 12:45:16    11998        1 2014-04-27        0\n",
       "207915 2012-06-02 11:55:59    11999        1 2012-06-02        0\n",
       "207916 2014-01-26 08:57:12    12000        1 2014-01-26        0\n",
       "\n",
       "[207917 rows x 5 columns]"
      ]
     },
     "execution_count": 116,
     "metadata": {},
     "output_type": "execute_result"
    }
   ],
   "source": [
    "df_activity['adopted'] = 0\n",
    "df_activity.loc[df_activity['user_id'] == 2, 'adopted'] = 0\n",
    "df_activity"
   ]
  },
  {
   "cell_type": "code",
   "execution_count": 125,
   "id": "9501b880",
   "metadata": {},
   "outputs": [
    {
     "name": "stdout",
     "output_type": "stream",
     "text": [
      "0\n",
      "1\n",
      "2\n",
      "3\n",
      "4\n"
     ]
    }
   ],
   "source": [
    "for x in range(5):\n",
    "    print(x)"
   ]
  },
  {
   "cell_type": "code",
   "execution_count": null,
   "id": "4500ef1f",
   "metadata": {},
   "outputs": [],
   "source": []
  },
  {
   "cell_type": "code",
   "execution_count": 128,
   "id": "859028b1",
   "metadata": {},
   "outputs": [],
   "source": [
    "for i in range(1,12001):\n",
    "    cur_df = df_activity[df_activity['user_id'] == i]\n",
    "    if cur_df.shape[0] ==0:\n",
    "        pass\n",
    "    elif cur_df.shape[0] > 0:\n",
    "        for x in range(cur_df.shape[0]):\n",
    "            end_date = cur_df['date'].iloc[x] + pd.Timedelta(days=7)\n",
    "            cur_date = cur_df['date'].iloc[x]\n",
    "            date_range_df = cur_df[(cur_df['date'] >= cur_date) & (cur_df['date'] <= end_date)]\n",
    "            if date_range_df['date'].nunique() >= 3:\n",
    "                df_activity.loc[df_activity['user_id'] == i, 'adopted'] = 1\n",
    "                break\n",
    "            else: pass"
   ]
  },
  {
   "cell_type": "code",
   "execution_count": 132,
   "id": "8f2de32e",
   "metadata": {},
   "outputs": [
    {
     "data": {
      "text/html": [
       "<div>\n",
       "<style scoped>\n",
       "    .dataframe tbody tr th:only-of-type {\n",
       "        vertical-align: middle;\n",
       "    }\n",
       "\n",
       "    .dataframe tbody tr th {\n",
       "        vertical-align: top;\n",
       "    }\n",
       "\n",
       "    .dataframe thead th {\n",
       "        text-align: right;\n",
       "    }\n",
       "</style>\n",
       "<table border=\"1\" class=\"dataframe\">\n",
       "  <thead>\n",
       "    <tr style=\"text-align: right;\">\n",
       "      <th></th>\n",
       "      <th>time_stamp</th>\n",
       "      <th>user_id</th>\n",
       "      <th>visited</th>\n",
       "      <th>date</th>\n",
       "      <th>adopted</th>\n",
       "    </tr>\n",
       "  </thead>\n",
       "  <tbody>\n",
       "    <tr>\n",
       "      <th>0</th>\n",
       "      <td>2014-04-22 03:53:30</td>\n",
       "      <td>1</td>\n",
       "      <td>1</td>\n",
       "      <td>2014-04-22</td>\n",
       "      <td>0</td>\n",
       "    </tr>\n",
       "    <tr>\n",
       "      <th>1</th>\n",
       "      <td>2013-11-15 03:45:04</td>\n",
       "      <td>2</td>\n",
       "      <td>1</td>\n",
       "      <td>2013-11-15</td>\n",
       "      <td>1</td>\n",
       "    </tr>\n",
       "    <tr>\n",
       "      <th>2</th>\n",
       "      <td>2013-11-29 03:45:04</td>\n",
       "      <td>2</td>\n",
       "      <td>1</td>\n",
       "      <td>2013-11-29</td>\n",
       "      <td>1</td>\n",
       "    </tr>\n",
       "    <tr>\n",
       "      <th>3</th>\n",
       "      <td>2013-12-09 03:45:04</td>\n",
       "      <td>2</td>\n",
       "      <td>1</td>\n",
       "      <td>2013-12-09</td>\n",
       "      <td>1</td>\n",
       "    </tr>\n",
       "    <tr>\n",
       "      <th>4</th>\n",
       "      <td>2013-12-25 03:45:04</td>\n",
       "      <td>2</td>\n",
       "      <td>1</td>\n",
       "      <td>2013-12-25</td>\n",
       "      <td>1</td>\n",
       "    </tr>\n",
       "    <tr>\n",
       "      <th>5</th>\n",
       "      <td>2013-12-31 03:45:04</td>\n",
       "      <td>2</td>\n",
       "      <td>1</td>\n",
       "      <td>2013-12-31</td>\n",
       "      <td>1</td>\n",
       "    </tr>\n",
       "    <tr>\n",
       "      <th>6</th>\n",
       "      <td>2014-01-08 03:45:04</td>\n",
       "      <td>2</td>\n",
       "      <td>1</td>\n",
       "      <td>2014-01-08</td>\n",
       "      <td>1</td>\n",
       "    </tr>\n",
       "    <tr>\n",
       "      <th>7</th>\n",
       "      <td>2014-02-03 03:45:04</td>\n",
       "      <td>2</td>\n",
       "      <td>1</td>\n",
       "      <td>2014-02-03</td>\n",
       "      <td>1</td>\n",
       "    </tr>\n",
       "    <tr>\n",
       "      <th>8</th>\n",
       "      <td>2014-02-08 03:45:04</td>\n",
       "      <td>2</td>\n",
       "      <td>1</td>\n",
       "      <td>2014-02-08</td>\n",
       "      <td>1</td>\n",
       "    </tr>\n",
       "    <tr>\n",
       "      <th>9</th>\n",
       "      <td>2014-02-09 03:45:04</td>\n",
       "      <td>2</td>\n",
       "      <td>1</td>\n",
       "      <td>2014-02-09</td>\n",
       "      <td>1</td>\n",
       "    </tr>\n",
       "    <tr>\n",
       "      <th>10</th>\n",
       "      <td>2014-02-13 03:45:04</td>\n",
       "      <td>2</td>\n",
       "      <td>1</td>\n",
       "      <td>2014-02-13</td>\n",
       "      <td>1</td>\n",
       "    </tr>\n",
       "    <tr>\n",
       "      <th>11</th>\n",
       "      <td>2014-02-16 03:45:04</td>\n",
       "      <td>2</td>\n",
       "      <td>1</td>\n",
       "      <td>2014-02-16</td>\n",
       "      <td>1</td>\n",
       "    </tr>\n",
       "    <tr>\n",
       "      <th>12</th>\n",
       "      <td>2014-03-09 03:45:04</td>\n",
       "      <td>2</td>\n",
       "      <td>1</td>\n",
       "      <td>2014-03-09</td>\n",
       "      <td>1</td>\n",
       "    </tr>\n",
       "    <tr>\n",
       "      <th>13</th>\n",
       "      <td>2014-03-13 03:45:04</td>\n",
       "      <td>2</td>\n",
       "      <td>1</td>\n",
       "      <td>2014-03-13</td>\n",
       "      <td>1</td>\n",
       "    </tr>\n",
       "    <tr>\n",
       "      <th>14</th>\n",
       "      <td>2014-03-31 03:45:04</td>\n",
       "      <td>2</td>\n",
       "      <td>1</td>\n",
       "      <td>2014-03-31</td>\n",
       "      <td>1</td>\n",
       "    </tr>\n",
       "    <tr>\n",
       "      <th>15</th>\n",
       "      <td>2013-03-19 23:14:52</td>\n",
       "      <td>3</td>\n",
       "      <td>1</td>\n",
       "      <td>2013-03-19</td>\n",
       "      <td>0</td>\n",
       "    </tr>\n",
       "    <tr>\n",
       "      <th>16</th>\n",
       "      <td>2013-05-22 08:09:28</td>\n",
       "      <td>4</td>\n",
       "      <td>1</td>\n",
       "      <td>2013-05-22</td>\n",
       "      <td>0</td>\n",
       "    </tr>\n",
       "    <tr>\n",
       "      <th>17</th>\n",
       "      <td>2013-01-22 10:14:20</td>\n",
       "      <td>5</td>\n",
       "      <td>1</td>\n",
       "      <td>2013-01-22</td>\n",
       "      <td>0</td>\n",
       "    </tr>\n",
       "    <tr>\n",
       "      <th>18</th>\n",
       "      <td>2013-12-19 03:37:06</td>\n",
       "      <td>6</td>\n",
       "      <td>1</td>\n",
       "      <td>2013-12-19</td>\n",
       "      <td>0</td>\n",
       "    </tr>\n",
       "    <tr>\n",
       "      <th>19</th>\n",
       "      <td>2012-12-20 13:24:32</td>\n",
       "      <td>7</td>\n",
       "      <td>1</td>\n",
       "      <td>2012-12-20</td>\n",
       "      <td>0</td>\n",
       "    </tr>\n",
       "  </tbody>\n",
       "</table>\n",
       "</div>"
      ],
      "text/plain": [
       "            time_stamp  user_id  visited       date  adopted\n",
       "0  2014-04-22 03:53:30        1        1 2014-04-22        0\n",
       "1  2013-11-15 03:45:04        2        1 2013-11-15        1\n",
       "2  2013-11-29 03:45:04        2        1 2013-11-29        1\n",
       "3  2013-12-09 03:45:04        2        1 2013-12-09        1\n",
       "4  2013-12-25 03:45:04        2        1 2013-12-25        1\n",
       "5  2013-12-31 03:45:04        2        1 2013-12-31        1\n",
       "6  2014-01-08 03:45:04        2        1 2014-01-08        1\n",
       "7  2014-02-03 03:45:04        2        1 2014-02-03        1\n",
       "8  2014-02-08 03:45:04        2        1 2014-02-08        1\n",
       "9  2014-02-09 03:45:04        2        1 2014-02-09        1\n",
       "10 2014-02-13 03:45:04        2        1 2014-02-13        1\n",
       "11 2014-02-16 03:45:04        2        1 2014-02-16        1\n",
       "12 2014-03-09 03:45:04        2        1 2014-03-09        1\n",
       "13 2014-03-13 03:45:04        2        1 2014-03-13        1\n",
       "14 2014-03-31 03:45:04        2        1 2014-03-31        1\n",
       "15 2013-03-19 23:14:52        3        1 2013-03-19        0\n",
       "16 2013-05-22 08:09:28        4        1 2013-05-22        0\n",
       "17 2013-01-22 10:14:20        5        1 2013-01-22        0\n",
       "18 2013-12-19 03:37:06        6        1 2013-12-19        0\n",
       "19 2012-12-20 13:24:32        7        1 2012-12-20        0"
      ]
     },
     "execution_count": 132,
     "metadata": {},
     "output_type": "execute_result"
    }
   ],
   "source": [
    "df_activity.head(20)\n"
   ]
  },
  {
   "cell_type": "code",
   "execution_count": 130,
   "id": "abd7d2ed",
   "metadata": {},
   "outputs": [
    {
     "data": {
      "text/plain": [
       "1656"
      ]
     },
     "execution_count": 130,
     "metadata": {},
     "output_type": "execute_result"
    }
   ],
   "source": [
    "df_activity[df_activity['adopted'] ==1]['user_id'].nunique()"
   ]
  },
  {
   "cell_type": "code",
   "execution_count": 135,
   "id": "9567fe2e",
   "metadata": {},
   "outputs": [
    {
     "data": {
      "text/html": [
       "<div>\n",
       "<style scoped>\n",
       "    .dataframe tbody tr th:only-of-type {\n",
       "        vertical-align: middle;\n",
       "    }\n",
       "\n",
       "    .dataframe tbody tr th {\n",
       "        vertical-align: top;\n",
       "    }\n",
       "\n",
       "    .dataframe thead th {\n",
       "        text-align: right;\n",
       "    }\n",
       "</style>\n",
       "<table border=\"1\" class=\"dataframe\">\n",
       "  <thead>\n",
       "    <tr style=\"text-align: right;\">\n",
       "      <th></th>\n",
       "      <th>object_id</th>\n",
       "      <th>creation_time</th>\n",
       "      <th>name</th>\n",
       "      <th>email</th>\n",
       "      <th>creation_source</th>\n",
       "      <th>last_session_creation_time</th>\n",
       "      <th>opted_in_to_mailing_list</th>\n",
       "      <th>enabled_for_marketing_drip</th>\n",
       "      <th>org_id</th>\n",
       "      <th>invited_by_user_id</th>\n",
       "    </tr>\n",
       "  </thead>\n",
       "  <tbody>\n",
       "    <tr>\n",
       "      <th>0</th>\n",
       "      <td>1</td>\n",
       "      <td>2014-04-22 03:53:30</td>\n",
       "      <td>Clausen August</td>\n",
       "      <td>AugustCClausen@yahoo.com</td>\n",
       "      <td>GUEST_INVITE</td>\n",
       "      <td>1.398139e+09</td>\n",
       "      <td>1</td>\n",
       "      <td>0</td>\n",
       "      <td>11</td>\n",
       "      <td>10803.0</td>\n",
       "    </tr>\n",
       "    <tr>\n",
       "      <th>1</th>\n",
       "      <td>2</td>\n",
       "      <td>2013-11-15 03:45:04</td>\n",
       "      <td>Poole Matthew</td>\n",
       "      <td>MatthewPoole@gustr.com</td>\n",
       "      <td>ORG_INVITE</td>\n",
       "      <td>1.396238e+09</td>\n",
       "      <td>0</td>\n",
       "      <td>0</td>\n",
       "      <td>1</td>\n",
       "      <td>316.0</td>\n",
       "    </tr>\n",
       "    <tr>\n",
       "      <th>2</th>\n",
       "      <td>3</td>\n",
       "      <td>2013-03-19 23:14:52</td>\n",
       "      <td>Bottrill Mitchell</td>\n",
       "      <td>MitchellBottrill@gustr.com</td>\n",
       "      <td>ORG_INVITE</td>\n",
       "      <td>1.363735e+09</td>\n",
       "      <td>0</td>\n",
       "      <td>0</td>\n",
       "      <td>94</td>\n",
       "      <td>1525.0</td>\n",
       "    </tr>\n",
       "    <tr>\n",
       "      <th>3</th>\n",
       "      <td>4</td>\n",
       "      <td>2013-05-21 08:09:28</td>\n",
       "      <td>Clausen Nicklas</td>\n",
       "      <td>NicklasSClausen@yahoo.com</td>\n",
       "      <td>GUEST_INVITE</td>\n",
       "      <td>1.369210e+09</td>\n",
       "      <td>0</td>\n",
       "      <td>0</td>\n",
       "      <td>1</td>\n",
       "      <td>5151.0</td>\n",
       "    </tr>\n",
       "    <tr>\n",
       "      <th>4</th>\n",
       "      <td>5</td>\n",
       "      <td>2013-01-17 10:14:20</td>\n",
       "      <td>Raw Grace</td>\n",
       "      <td>GraceRaw@yahoo.com</td>\n",
       "      <td>GUEST_INVITE</td>\n",
       "      <td>1.358850e+09</td>\n",
       "      <td>0</td>\n",
       "      <td>0</td>\n",
       "      <td>193</td>\n",
       "      <td>5240.0</td>\n",
       "    </tr>\n",
       "  </tbody>\n",
       "</table>\n",
       "</div>"
      ],
      "text/plain": [
       "   object_id        creation_time               name  \\\n",
       "0          1  2014-04-22 03:53:30     Clausen August   \n",
       "1          2  2013-11-15 03:45:04      Poole Matthew   \n",
       "2          3  2013-03-19 23:14:52  Bottrill Mitchell   \n",
       "3          4  2013-05-21 08:09:28    Clausen Nicklas   \n",
       "4          5  2013-01-17 10:14:20          Raw Grace   \n",
       "\n",
       "                        email creation_source  last_session_creation_time  \\\n",
       "0    AugustCClausen@yahoo.com    GUEST_INVITE                1.398139e+09   \n",
       "1      MatthewPoole@gustr.com      ORG_INVITE                1.396238e+09   \n",
       "2  MitchellBottrill@gustr.com      ORG_INVITE                1.363735e+09   \n",
       "3   NicklasSClausen@yahoo.com    GUEST_INVITE                1.369210e+09   \n",
       "4          GraceRaw@yahoo.com    GUEST_INVITE                1.358850e+09   \n",
       "\n",
       "   opted_in_to_mailing_list  enabled_for_marketing_drip  org_id  \\\n",
       "0                         1                           0      11   \n",
       "1                         0                           0       1   \n",
       "2                         0                           0      94   \n",
       "3                         0                           0       1   \n",
       "4                         0                           0     193   \n",
       "\n",
       "   invited_by_user_id  \n",
       "0             10803.0  \n",
       "1               316.0  \n",
       "2              1525.0  \n",
       "3              5151.0  \n",
       "4              5240.0  "
      ]
     },
     "execution_count": 135,
     "metadata": {},
     "output_type": "execute_result"
    }
   ],
   "source": [
    "df_users = pd.read_csv('takehome_users.csv', encoding='ISO-8859-1')\n",
    "df_users.head()"
   ]
  },
  {
   "cell_type": "code",
   "execution_count": 136,
   "id": "592d0fad",
   "metadata": {},
   "outputs": [
    {
     "data": {
      "text/plain": [
       "(12000, 10)"
      ]
     },
     "execution_count": 136,
     "metadata": {},
     "output_type": "execute_result"
    }
   ],
   "source": [
    "df_users.shape"
   ]
  },
  {
   "cell_type": "code",
   "execution_count": 190,
   "id": "9c3ba73e",
   "metadata": {},
   "outputs": [
    {
     "name": "stdout",
     "output_type": "stream",
     "text": [
      "<class 'pandas.core.frame.DataFrame'>\n",
      "RangeIndex: 12000 entries, 0 to 11999\n",
      "Data columns (total 10 columns):\n",
      " #   Column                      Non-Null Count  Dtype  \n",
      "---  ------                      --------------  -----  \n",
      " 0   user_id                     12000 non-null  int64  \n",
      " 1   creation_time               12000 non-null  object \n",
      " 2   name                        12000 non-null  object \n",
      " 3   email                       12000 non-null  object \n",
      " 4   creation_source             12000 non-null  object \n",
      " 5   last_session_creation_time  8823 non-null   float64\n",
      " 6   opted_in_to_mailing_list    12000 non-null  int64  \n",
      " 7   enabled_for_marketing_drip  12000 non-null  int64  \n",
      " 8   org_id                      12000 non-null  int64  \n",
      " 9   invited_by_user_id          6417 non-null   float64\n",
      "dtypes: float64(2), int64(4), object(4)\n",
      "memory usage: 937.6+ KB\n"
     ]
    }
   ],
   "source": [
    "df_users.info()"
   ]
  },
  {
   "cell_type": "code",
   "execution_count": 137,
   "id": "82efee30",
   "metadata": {},
   "outputs": [],
   "source": [
    "df_users.rename(columns={'object_id': 'user_id'}, inplace=True)"
   ]
  },
  {
   "cell_type": "code",
   "execution_count": 155,
   "id": "80c1a4fd",
   "metadata": {},
   "outputs": [],
   "source": [
    "df_new = df_users.merge(df_activity, how='left', on='user_id')"
   ]
  },
  {
   "cell_type": "code",
   "execution_count": 158,
   "id": "10380ce1",
   "metadata": {},
   "outputs": [
    {
     "data": {
      "text/plain": [
       "(211094, 14)"
      ]
     },
     "execution_count": 158,
     "metadata": {},
     "output_type": "execute_result"
    }
   ],
   "source": [
    "df_new.head(10)\n",
    "# df_new['user_id'].nunique()\n",
    "df_new.shape"
   ]
  },
  {
   "cell_type": "code",
   "execution_count": 168,
   "id": "7632ff06",
   "metadata": {},
   "outputs": [
    {
     "name": "stdout",
     "output_type": "stream",
     "text": [
      "<class 'pandas.core.frame.DataFrame'>\n",
      "Index: 12000 entries, 0 to 211093\n",
      "Data columns (total 14 columns):\n",
      " #   Column                      Non-Null Count  Dtype         \n",
      "---  ------                      --------------  -----         \n",
      " 0   user_id                     12000 non-null  int64         \n",
      " 1   creation_time               12000 non-null  object        \n",
      " 2   name                        12000 non-null  object        \n",
      " 3   email                       12000 non-null  object        \n",
      " 4   creation_source             12000 non-null  object        \n",
      " 5   last_session_creation_time  8823 non-null   float64       \n",
      " 6   opted_in_to_mailing_list    12000 non-null  int64         \n",
      " 7   enabled_for_marketing_drip  12000 non-null  int64         \n",
      " 8   org_id                      12000 non-null  int64         \n",
      " 9   invited_by_user_id          6417 non-null   float64       \n",
      " 10  time_stamp                  8823 non-null   datetime64[ns]\n",
      " 11  visited                     8823 non-null   float64       \n",
      " 12  date                        8823 non-null   datetime64[ns]\n",
      " 13  adopted                     8823 non-null   float64       \n",
      "dtypes: datetime64[ns](2), float64(4), int64(4), object(4)\n",
      "memory usage: 1.4+ MB\n"
     ]
    }
   ],
   "source": [
    "df_final = df_new.drop_duplicates(subset='user_id')\n",
    "df_final.info()"
   ]
  },
  {
   "cell_type": "code",
   "execution_count": 194,
   "id": "474eef68",
   "metadata": {},
   "outputs": [
    {
     "name": "stdout",
     "output_type": "stream",
     "text": [
      "<class 'pandas.core.frame.DataFrame'>\n",
      "Index: 12000 entries, 0 to 211093\n",
      "Data columns (total 11 columns):\n",
      " #   Column                      Non-Null Count  Dtype  \n",
      "---  ------                      --------------  -----  \n",
      " 0   user_id                     12000 non-null  int64  \n",
      " 1   creation_time               12000 non-null  object \n",
      " 2   name                        12000 non-null  object \n",
      " 3   email                       12000 non-null  object \n",
      " 4   creation_source             12000 non-null  object \n",
      " 5   last_session_creation_time  8823 non-null   float64\n",
      " 6   opted_in_to_mailing_list    12000 non-null  int64  \n",
      " 7   enabled_for_marketing_drip  12000 non-null  int64  \n",
      " 8   org_id                      12000 non-null  int64  \n",
      " 9   invited_by_user_id          6417 non-null   float64\n",
      " 10  adopted                     8823 non-null   float64\n",
      "dtypes: float64(3), int64(4), object(4)\n",
      "memory usage: 1.1+ MB\n"
     ]
    },
    {
     "name": "stderr",
     "output_type": "stream",
     "text": [
      "/var/folders/k7/_jdxw9bx3_7cybsnkxz0pr200000gn/T/ipykernel_18227/427098479.py:1: SettingWithCopyWarning: \n",
      "A value is trying to be set on a copy of a slice from a DataFrame\n",
      "\n",
      "See the caveats in the documentation: https://pandas.pydata.org/pandas-docs/stable/user_guide/indexing.html#returning-a-view-versus-a-copy\n",
      "  df_final.drop(columns=['date', 'visited', 'time_stamp'], inplace=True)\n"
     ]
    }
   ],
   "source": [
    "df_final.drop(columns=['date', 'visited', 'time_stamp'], inplace=True)\n",
    "df_final.info()"
   ]
  },
  {
   "cell_type": "code",
   "execution_count": 196,
   "id": "054fd2f9",
   "metadata": {},
   "outputs": [
    {
     "name": "stdout",
     "output_type": "stream",
     "text": [
      "<class 'pandas.core.frame.DataFrame'>\n",
      "Index: 12000 entries, 0 to 211093\n",
      "Data columns (total 11 columns):\n",
      " #   Column                      Non-Null Count  Dtype  \n",
      "---  ------                      --------------  -----  \n",
      " 0   user_id                     12000 non-null  int64  \n",
      " 1   creation_time               12000 non-null  object \n",
      " 2   name                        12000 non-null  object \n",
      " 3   email                       12000 non-null  object \n",
      " 4   creation_source             12000 non-null  object \n",
      " 5   last_session_creation_time  12000 non-null  float64\n",
      " 6   opted_in_to_mailing_list    12000 non-null  int64  \n",
      " 7   enabled_for_marketing_drip  12000 non-null  int64  \n",
      " 8   org_id                      12000 non-null  int64  \n",
      " 9   invited_by_user_id          12000 non-null  float64\n",
      " 10  adopted                     12000 non-null  float64\n",
      "dtypes: float64(3), int64(4), object(4)\n",
      "memory usage: 1.1+ MB\n"
     ]
    },
    {
     "name": "stderr",
     "output_type": "stream",
     "text": [
      "/var/folders/k7/_jdxw9bx3_7cybsnkxz0pr200000gn/T/ipykernel_18227/3646622254.py:1: SettingWithCopyWarning: \n",
      "A value is trying to be set on a copy of a slice from a DataFrame\n",
      "\n",
      "See the caveats in the documentation: https://pandas.pydata.org/pandas-docs/stable/user_guide/indexing.html#returning-a-view-versus-a-copy\n",
      "  df_final['last_session_creation_time'].fillna(0, inplace=True)\n",
      "/var/folders/k7/_jdxw9bx3_7cybsnkxz0pr200000gn/T/ipykernel_18227/3646622254.py:2: SettingWithCopyWarning: \n",
      "A value is trying to be set on a copy of a slice from a DataFrame\n",
      "\n",
      "See the caveats in the documentation: https://pandas.pydata.org/pandas-docs/stable/user_guide/indexing.html#returning-a-view-versus-a-copy\n",
      "  df_final['invited_by_user_id'].fillna(0, inplace=True)\n",
      "/var/folders/k7/_jdxw9bx3_7cybsnkxz0pr200000gn/T/ipykernel_18227/3646622254.py:3: SettingWithCopyWarning: \n",
      "A value is trying to be set on a copy of a slice from a DataFrame\n",
      "\n",
      "See the caveats in the documentation: https://pandas.pydata.org/pandas-docs/stable/user_guide/indexing.html#returning-a-view-versus-a-copy\n",
      "  df_final['adopted'].fillna(0, inplace=True)\n"
     ]
    }
   ],
   "source": [
    "df_final['last_session_creation_time'].fillna(0, inplace=True)\n",
    "df_final['invited_by_user_id'].fillna(0, inplace=True)\n",
    "df_final['adopted'].fillna(0, inplace=True)\n",
    "df_final.info()"
   ]
  },
  {
   "cell_type": "code",
   "execution_count": 216,
   "id": "fc227ae1",
   "metadata": {},
   "outputs": [
    {
     "data": {
      "text/plain": [
       "(array([0, 1, 2, 3, 4]),\n",
       " [Text(0, 0, 'ORG_INVITE'),\n",
       "  Text(1, 0, 'GUEST_INVITE'),\n",
       "  Text(2, 0, 'SIGNUP'),\n",
       "  Text(3, 0, 'SIGNUP_GOOGLE_AUTH'),\n",
       "  Text(4, 0, 'PERSONAL_PROJECTS')])"
      ]
     },
     "execution_count": 216,
     "metadata": {},
     "output_type": "execute_result"
    },
    {
     "data": {
      "image/png": "[encoded data removed]",
      "text/plain": [
       "<Figure size 640x480 with 1 Axes>"
      ]
     },
     "metadata": {},
     "output_type": "display_data"
    }
   ],
   "source": [
    "adopted_df = df_final[df_final['adopted'] == 1]\n",
    "adopted_df['creation_source'].value_counts().plot(kind='bar', color=['skyblue', 'orange', 'red', 'blue', 'green'])\n",
    "plt.title('Customers adopted by Creation Source')\n",
    "plt.xlabel('Creation Source')\n",
    "plt.ylabel('Count')\n",
    "plt.xticks(rotation=45)"
   ]
  },
  {
   "cell_type": "code",
   "execution_count": 217,
   "id": "b609f87b",
   "metadata": {},
   "outputs": [
    {
     "data": {
      "text/plain": [
       "(array([  12.,   31.,   30.,   39.,   50.,   45.,   45.,   47.,   53.,\n",
       "        1304.]),\n",
       " array([1.34124414e+09, 1.34731234e+09, 1.35338055e+09, 1.35944875e+09,\n",
       "        1.36551696e+09, 1.37158516e+09, 1.37765337e+09, 1.38372157e+09,\n",
       "        1.38978978e+09, 1.39585798e+09, 1.40192619e+09]),\n",
       " <BarContainer object of 10 artists>)"
      ]
     },
     "execution_count": 217,
     "metadata": {},
     "output_type": "execute_result"
    },
    {
     "data": {
      "image/png": "[encoded data removed]",
      "text/plain": [
       "<Figure size 640x480 with 1 Axes>"
      ]
     },
     "metadata": {},
     "output_type": "display_data"
    }
   ],
   "source": [
    "plt.hist(adopted_df['last_session_creation_time'])"
   ]
  },
  {
   "cell_type": "code",
   "execution_count": 221,
   "id": "d8432d6c",
   "metadata": {},
   "outputs": [
    {
     "data": {
      "text/plain": [
       "<Axes: xlabel='opted_in_to_mailing_list'>"
      ]
     },
     "execution_count": 221,
     "metadata": {},
     "output_type": "execute_result"
    },
    {
     "data": {
      "image/png": "[encoded data removed]",
      "text/plain": [
       "<Figure size 640x480 with 1 Axes>"
      ]
     },
     "metadata": {},
     "output_type": "display_data"
    }
   ],
   "source": [
    "adopted_df['opted_in_to_mailing_list'].value_counts().plot(kind='bar')"
   ]
  },
  {
   "cell_type": "code",
   "execution_count": 222,
   "id": "f8604f21",
   "metadata": {},
   "outputs": [
    {
     "data": {
      "text/plain": [
       "<Axes: xlabel='enabled_for_marketing_drip'>"
      ]
     },
     "execution_count": 222,
     "metadata": {},
     "output_type": "execute_result"
    },
    {
     "data": {
      "image/png": "[encoded data removed]",
      "text/plain": [
       "<Figure size 640x480 with 1 Axes>"
      ]
     },
     "metadata": {},
     "output_type": "display_data"
    }
   ],
   "source": [
    "adopted_df['enabled_for_marketing_drip'].value_counts().plot(kind='bar')"
   ]
  },
  {
   "cell_type": "code",
   "execution_count": null,
   "id": "0f9863cd",
   "metadata": {},
   "outputs": [],
   "source": []
  },
  {
   "cell_type": "code",
   "execution_count": null,
   "id": "e574c15a",
   "metadata": {},
   "outputs": [],
   "source": []
  },
  {
   "cell_type": "code",
   "execution_count": null,
   "id": "c672ca81",
   "metadata": {},
   "outputs": [],
   "source": []
  },
  {
   "cell_type": "code",
   "execution_count": null,
   "id": "62a4e79e",
   "metadata": {},
   "outputs": [],
   "source": []
  },
  {
   "cell_type": "code",
   "execution_count": 197,
   "id": "8dcf5083",
   "metadata": {},
   "outputs": [],
   "source": [
    "from sklearn.model_selection import train_test_split\n",
    "from sklearn.ensemble import RandomForestClassifier\n",
    "from sklearn.metrics import confusion_matrix, accuracy_score, classification_report"
   ]
  },
  {
   "cell_type": "code",
   "execution_count": 201,
   "id": "897f3dde",
   "metadata": {},
   "outputs": [],
   "source": [
    "X = df_final.drop(columns=['adopted'])\n",
    "y = df_final['adopted']\n",
    "X = pd.get_dummies(X, drop_first=True)"
   ]
  },
  {
   "cell_type": "code",
   "execution_count": 202,
   "id": "b32f75c7",
   "metadata": {},
   "outputs": [],
   "source": [
    "X_train, X_test, y_train, y_test = train_test_split(X, y)"
   ]
  },
  {
   "cell_type": "code",
   "execution_count": 203,
   "id": "61f74239",
   "metadata": {},
   "outputs": [],
   "source": [
    "rf_model = RandomForestClassifier()"
   ]
  },
  {
   "cell_type": "code",
   "execution_count": 204,
   "id": "26e01f9f",
   "metadata": {},
   "outputs": [
    {
     "data": {
      "text/html": [
       "<style>#sk-container-id-1 {color: black;}#sk-container-id-1 pre{padding: 0;}#sk-container-id-1 div.sk-toggleable {background-color: white;}#sk-container-id-1 label.sk-toggleable__label {cursor: pointer;display: block;width: 100%;margin-bottom: 0;padding: 0.3em;box-sizing: border-box;text-align: center;}#sk-container-id-1 label.sk-toggleable__label-arrow:before {content: \"▸\";float: left;margin-right: 0.25em;color: #696969;}#sk-container-id-1 label.sk-toggleable__label-arrow:hover:before {color: black;}#sk-container-id-1 div.sk-estimator:hover label.sk-toggleable__label-arrow:before {color: black;}#sk-container-id-1 div.sk-toggleable__content {max-height: 0;max-width: 0;overflow: hidden;text-align: left;background-color: #f0f8ff;}#sk-container-id-1 div.sk-toggleable__content pre {margin: 0.2em;color: black;border-radius: 0.25em;background-color: #f0f8ff;}#sk-container-id-1 input.sk-toggleable__control:checked~div.sk-toggleable__content {max-height: 200px;max-width: 100%;overflow: auto;}#sk-container-id-1 input.sk-toggleable__control:checked~label.sk-toggleable__label-arrow:before {content: \"▾\";}#sk-container-id-1 div.sk-estimator input.sk-toggleable__control:checked~label.sk-toggleable__label {background-color: #d4ebff;}#sk-container-id-1 div.sk-label input.sk-toggleable__control:checked~label.sk-toggleable__label {background-color: #d4ebff;}#sk-container-id-1 input.sk-hidden--visually {border: 0;clip: rect(1px 1px 1px 1px);clip: rect(1px, 1px, 1px, 1px);height: 1px;margin: -1px;overflow: hidden;padding: 0;position: absolute;width: 1px;}#sk-container-id-1 div.sk-estimator {font-family: monospace;background-color: #f0f8ff;border: 1px dotted black;border-radius: 0.25em;box-sizing: border-box;margin-bottom: 0.5em;}#sk-container-id-1 div.sk-estimator:hover {background-color: #d4ebff;}#sk-container-id-1 div.sk-parallel-item::after {content: \"\";width: 100%;border-bottom: 1px solid gray;flex-grow: 1;}#sk-container-id-1 div.sk-label:hover label.sk-toggleable__label {background-color: #d4ebff;}#sk-container-id-1 div.sk-serial::before {content: \"\";position: absolute;border-left: 1px solid gray;box-sizing: border-box;top: 0;bottom: 0;left: 50%;z-index: 0;}#sk-container-id-1 div.sk-serial {display: flex;flex-direction: column;align-items: center;background-color: white;padding-right: 0.2em;padding-left: 0.2em;position: relative;}#sk-container-id-1 div.sk-item {position: relative;z-index: 1;}#sk-container-id-1 div.sk-parallel {display: flex;align-items: stretch;justify-content: center;background-color: white;position: relative;}#sk-container-id-1 div.sk-item::before, #sk-container-id-1 div.sk-parallel-item::before {content: \"\";position: absolute;border-left: 1px solid gray;box-sizing: border-box;top: 0;bottom: 0;left: 50%;z-index: -1;}#sk-container-id-1 div.sk-parallel-item {display: flex;flex-direction: column;z-index: 1;position: relative;background-color: white;}#sk-container-id-1 div.sk-parallel-item:first-child::after {align-self: flex-end;width: 50%;}#sk-container-id-1 div.sk-parallel-item:last-child::after {align-self: flex-start;width: 50%;}#sk-container-id-1 div.sk-parallel-item:only-child::after {width: 0;}#sk-container-id-1 div.sk-dashed-wrapped {border: 1px dashed gray;margin: 0 0.4em 0.5em 0.4em;box-sizing: border-box;padding-bottom: 0.4em;background-color: white;}#sk-container-id-1 div.sk-label label {font-family: monospace;font-weight: bold;display: inline-block;line-height: 1.2em;}#sk-container-id-1 div.sk-label-container {text-align: center;}#sk-container-id-1 div.sk-container {/* jupyter's `normalize.less` sets `[hidden] { display: none; }` but bootstrap.min.css set `[hidden] { display: none !important; }` so we also need the `!important` here to be able to override the default hidden behavior on the sphinx rendered scikit-learn.org. See: https://github.com/scikit-learn/scikit-learn/issues/21755 */display: inline-block !important;position: relative;}#sk-container-id-1 div.sk-text-repr-fallback {display: none;}</style><div id=\"sk-container-id-1\" class=\"sk-top-container\"><div class=\"sk-text-repr-fallback\"><pre>RandomForestClassifier()</pre><b>In a Jupyter environment, please rerun this cell to show the HTML representation or trust the notebook. <br />On GitHub, the HTML representation is unable to render, please try loading this page with nbviewer.org.</b></div><div class=\"sk-container\" hidden><div class=\"sk-item\"><div class=\"sk-estimator sk-toggleable\"><input class=\"sk-toggleable__control sk-hidden--visually\" id=\"sk-estimator-id-1\" type=\"checkbox\" checked><label for=\"sk-estimator-id-1\" class=\"sk-toggleable__label sk-toggleable__label-arrow\">RandomForestClassifier</label><div class=\"sk-toggleable__content\"><pre>RandomForestClassifier()</pre></div></div></div></div></div>"
      ],
      "text/plain": [
       "RandomForestClassifier()"
      ]
     },
     "execution_count": 204,
     "metadata": {},
     "output_type": "execute_result"
    }
   ],
   "source": [
    "rf_model.fit(X_train, y_train)"
   ]
  },
  {
   "cell_type": "code",
   "execution_count": 205,
   "id": "a8d1dcea",
   "metadata": {},
   "outputs": [],
   "source": [
    "y_pred = rf_model.predict(X_test)"
   ]
  },
  {
   "cell_type": "code",
   "execution_count": 209,
   "id": "d59f0982",
   "metadata": {},
   "outputs": [
    {
     "name": "stdout",
     "output_type": "stream",
     "text": [
      "0.9116666666666666\n"
     ]
    }
   ],
   "source": [
    "print(accuracy_score(y_test, y_pred))"
   ]
  },
  {
   "cell_type": "code",
   "execution_count": 208,
   "id": "c488fd9b",
   "metadata": {},
   "outputs": [
    {
     "name": "stdout",
     "output_type": "stream",
     "text": [
      "last_session_creation_time                 0.279603\n",
      "org_id                                     0.009341\n",
      "user_id                                    0.007416\n",
      "invited_by_user_id                         0.004607\n",
      "creation_source_PERSONAL_PROJECTS          0.002333\n",
      "                                             ...   \n",
      "creation_time_2013-01-28 08:34:03          0.000000\n",
      "name_Mahler Anja                           0.000000\n",
      "email_JenniferPCarpenter@gustr.com         0.000000\n",
      "name_Magee Stanley                         0.000000\n",
      "email_LeonardoFerreiraCorreia@gmail.com    0.000000\n",
      "Length: 35338, dtype: float64\n"
     ]
    }
   ],
   "source": [
    "importances = rf_model.feature_importances_\n",
    "feature_importances = pd.Series(importances, index=X.columns)\n",
    "print(feature_importances.sort_values(ascending=False))"
   ]
  },
  {
   "cell_type": "code",
   "execution_count": 191,
   "id": "d3e2937c",
   "metadata": {},
   "outputs": [
    {
     "name": "stdout",
     "output_type": "stream",
     "text": [
      "<class 'pandas.core.frame.DataFrame'>\n",
      "Index: 4776 entries, 0 to 211091\n",
      "Data columns (total 14 columns):\n",
      " #   Column                      Non-Null Count  Dtype         \n",
      "---  ------                      --------------  -----         \n",
      " 0   user_id                     4776 non-null   int64         \n",
      " 1   creation_time               4776 non-null   object        \n",
      " 2   name                        4776 non-null   object        \n",
      " 3   email                       4776 non-null   object        \n",
      " 4   creation_source             4776 non-null   object        \n",
      " 5   last_session_creation_time  4776 non-null   float64       \n",
      " 6   opted_in_to_mailing_list    4776 non-null   int64         \n",
      " 7   enabled_for_marketing_drip  4776 non-null   int64         \n",
      " 8   org_id                      4776 non-null   int64         \n",
      " 9   invited_by_user_id          4776 non-null   float64       \n",
      " 10  time_stamp                  4776 non-null   datetime64[ns]\n",
      " 11  visited                     4776 non-null   float64       \n",
      " 12  date                        4776 non-null   datetime64[ns]\n",
      " 13  adopted                     4776 non-null   float64       \n",
      "dtypes: datetime64[ns](2), float64(4), int64(4), object(4)\n",
      "memory usage: 559.7+ KB\n"
     ]
    }
   ],
   "source": [
    "df_final_dropped = df_final.dropna()\n",
    "df_final_dropped.info()"
   ]
  },
  {
   "cell_type": "code",
   "execution_count": 193,
   "id": "c82880a8",
   "metadata": {},
   "outputs": [
    {
     "data": {
      "text/plain": [
       "adopted\n",
       "0.0    3833\n",
       "1.0     943\n",
       "Name: count, dtype: int64"
      ]
     },
     "execution_count": 193,
     "metadata": {},
     "output_type": "execute_result"
    }
   ],
   "source": [
    "df_final_dropped['adopted'].value_counts()"
   ]
  },
  {
   "cell_type": "code",
   "execution_count": null,
   "id": "43eb0873",
   "metadata": {},
   "outputs": [],
   "source": []
  },
  {
   "cell_type": "code",
   "execution_count": null,
   "id": "22eb5880",
   "metadata": {},
   "outputs": [],
   "source": []
  },
  {
   "cell_type": "code",
   "execution_count": null,
   "id": "80c58673",
   "metadata": {},
   "outputs": [],
   "source": []
  },
  {
   "cell_type": "code",
   "execution_count": null,
   "id": "67ff9522",
   "metadata": {},
   "outputs": [],
   "source": []
  },
  {
   "cell_type": "code",
   "execution_count": null,
   "id": "4ec2c82a",
   "metadata": {},
   "outputs": [],
   "source": []
  },
  {
   "cell_type": "code",
   "execution_count": null,
   "id": "ec0c6541",
   "metadata": {},
   "outputs": [],
   "source": []
  },
  {
   "cell_type": "code",
   "execution_count": null,
   "id": "fd91efe4",
   "metadata": {},
   "outputs": [],
   "source": []
  },
  {
   "cell_type": "code",
   "execution_count": null,
   "id": "63449007",
   "metadata": {},
   "outputs": [],
   "source": []
  },
  {
   "cell_type": "code",
   "execution_count": null,
   "id": "730b628c",
   "metadata": {},
   "outputs": [],
   "source": []
  },
  {
   "cell_type": "code",
   "execution_count": null,
   "id": "c2bb4ce2",
   "metadata": {},
   "outputs": [],
   "source": []
  },
  {
   "cell_type": "code",
   "execution_count": null,
   "id": "0d9719e4",
   "metadata": {},
   "outputs": [],
   "source": []
  },
  {
   "cell_type": "code",
   "execution_count": null,
   "id": "6a8da8a6",
   "metadata": {},
   "outputs": [],
   "source": []
  },
  {
   "cell_type": "code",
   "execution_count": null,
   "id": "6af1ea6e",
   "metadata": {},
   "outputs": [],
   "source": []
  },
  {
   "cell_type": "code",
   "execution_count": 170,
   "id": "afb98397",
   "metadata": {
    "scrolled": false
   },
   "outputs": [],
   "source": [
    "# df_test.head()"
   ]
  },
  {
   "cell_type": "code",
   "execution_count": 171,
   "id": "2d57ecf9",
   "metadata": {},
   "outputs": [],
   "source": [
    "# df_test = df_new.groupby('name')"
   ]
  },
  {
   "cell_type": "code",
   "execution_count": 172,
   "id": "450f9491",
   "metadata": {},
   "outputs": [],
   "source": [
    "# df_test = df_new[['time_stamp', 'user_id', 'name']]"
   ]
  },
  {
   "cell_type": "code",
   "execution_count": 173,
   "id": "4f5e77e8",
   "metadata": {},
   "outputs": [],
   "source": [
    "# df_test['time_stamp'] = pd.to_datetime(df_test['time_stamp'])"
   ]
  },
  {
   "cell_type": "code",
   "execution_count": 174,
   "id": "51e14769",
   "metadata": {},
   "outputs": [],
   "source": [
    "# df_test.info()"
   ]
  },
  {
   "cell_type": "code",
   "execution_count": 175,
   "id": "f0f5e287",
   "metadata": {},
   "outputs": [],
   "source": [
    "# df_test['date'] = df_test['time_stamp'].dt.date"
   ]
  },
  {
   "cell_type": "code",
   "execution_count": 176,
   "id": "2c0df997",
   "metadata": {},
   "outputs": [],
   "source": [
    "# df_test.info()"
   ]
  },
  {
   "cell_type": "code",
   "execution_count": 177,
   "id": "9bc6491f",
   "metadata": {},
   "outputs": [],
   "source": [
    "# df_test.head()"
   ]
  },
  {
   "cell_type": "code",
   "execution_count": 178,
   "id": "4997b3cd",
   "metadata": {},
   "outputs": [],
   "source": [
    "# df_test = df_test[['name', 'date']]\n",
    "# df_test.sort_values('name')"
   ]
  },
  {
   "cell_type": "code",
   "execution_count": 179,
   "id": "06ab0dd9",
   "metadata": {},
   "outputs": [],
   "source": [
    "# logins = df_test.groupby('name')['date'].nunique().sort_values(ascending=False)"
   ]
  },
  {
   "cell_type": "code",
   "execution_count": 180,
   "id": "d0ae3c3e",
   "metadata": {},
   "outputs": [],
   "source": [
    "# logins.values.sum()"
   ]
  },
  {
   "cell_type": "code",
   "execution_count": 181,
   "id": "dd880722",
   "metadata": {},
   "outputs": [],
   "source": [
    "# logins"
   ]
  },
  {
   "cell_type": "code",
   "execution_count": 182,
   "id": "c0b853d4",
   "metadata": {},
   "outputs": [],
   "source": [
    "# adopted_users = np.array(logins[logins >=3].keys())"
   ]
  },
  {
   "cell_type": "code",
   "execution_count": 183,
   "id": "830dde2a",
   "metadata": {},
   "outputs": [],
   "source": [
    "# len(adopted_users)"
   ]
  },
  {
   "cell_type": "code",
   "execution_count": 184,
   "id": "e6faf97c",
   "metadata": {},
   "outputs": [],
   "source": [
    "# df_users.head()"
   ]
  },
  {
   "cell_type": "code",
   "execution_count": 185,
   "id": "d02024fc",
   "metadata": {},
   "outputs": [],
   "source": [
    "# df_users['adopted'] = df_users['name'].isin(adopted_users).astype(int)\n",
    "# df_users.head()"
   ]
  },
  {
   "cell_type": "code",
   "execution_count": null,
   "id": "b933d3e3",
   "metadata": {},
   "outputs": [],
   "source": []
  }
 ],
 "metadata": {
  "kernelspec": {
   "display_name": "Python 3 (ipykernel)",
   "language": "python",
   "name": "python3"
  },
  "language_info": {
   "codemirror_mode": {
    "name": "ipython",
    "version": 3
   },
   "file_extension": ".py",
   "mimetype": "text/x-python",
   "name": "python",
   "nbconvert_exporter": "python",
   "pygments_lexer": "ipython3",
   "version": "3.11.5"
  }
 },
 "nbformat": 4,
 "nbformat_minor": 5
}
