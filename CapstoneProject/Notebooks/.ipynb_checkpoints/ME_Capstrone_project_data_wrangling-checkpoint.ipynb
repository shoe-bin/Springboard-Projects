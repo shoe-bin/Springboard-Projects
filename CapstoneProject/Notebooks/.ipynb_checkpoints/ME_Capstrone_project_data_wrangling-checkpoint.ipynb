{
 "cells": [
  {
   "cell_type": "code",
   "execution_count": 1,
   "id": "bdd4f19d",
   "metadata": {},
   "outputs": [],
   "source": [
    "import pandas as pd"
   ]
  },
  {
   "cell_type": "code",
   "execution_count": 46,
   "id": "b257c776",
   "metadata": {
    "scrolled": true
   },
   "outputs": [],
   "source": [
    "#import the raw data from a local directory\n",
    "raw_data = pd.read_csv('downloads/automotive_insurance_data.csv', header=0)"
   ]
  },
  {
   "cell_type": "code",
   "execution_count": 47,
   "id": "e4044347",
   "metadata": {},
   "outputs": [
    {
     "data": {
      "text/plain": [
       "(105555, 1)"
      ]
     },
     "execution_count": 47,
     "metadata": {},
     "output_type": "execute_result"
    }
   ],
   "source": [
    "raw_data.shape"
   ]
  },
  {
   "cell_type": "code",
   "execution_count": 4,
   "id": "615b8595",
   "metadata": {},
   "outputs": [],
   "source": [
    "#create list of columns for recreating dataframe\n",
    "#initial dataframe import was only one column, seperated by semi-colons\n",
    "columns_list = list(raw_data.columns)[0].split(';')"
   ]
  },
  {
   "cell_type": "code",
   "execution_count": 5,
   "id": "3514f8f0",
   "metadata": {},
   "outputs": [
    {
     "data": {
      "text/plain": [
       "30"
      ]
     },
     "execution_count": 5,
     "metadata": {},
     "output_type": "execute_result"
    }
   ],
   "source": [
    "len(columns_list)"
   ]
  },
  {
   "cell_type": "code",
   "execution_count": 6,
   "id": "035c854c",
   "metadata": {},
   "outputs": [
    {
     "name": "stdout",
     "output_type": "stream",
     "text": [
      "['ID', 'Date_start_contract', 'Date_last_renewal', 'Date_next_renewal', 'Date_birth', 'Date_driving_licence', 'Distribution_channel', 'Seniority', 'Policies_in_force', 'Max_policies', 'Max_products', 'Lapse', 'Date_lapse', 'Payment', 'Premium', 'Cost_claims_year', 'N_claims_year', 'N_claims_history', 'R_Claims_history', 'Type_risk', 'Area', 'Second_driver', 'Year_matriculation', 'Power', 'Cylinder_capacity', 'Value_vehicle', 'N_doors', 'Type_fuel', 'Length', 'Weight']\n"
     ]
    }
   ],
   "source": [
    "print(columns_list)"
   ]
  },
  {
   "cell_type": "code",
   "execution_count": 7,
   "id": "a67c7cf6",
   "metadata": {},
   "outputs": [
    {
     "name": "stdout",
     "output_type": "stream",
     "text": [
      "['1', '05/11/2015', '05/11/2015', '05/11/2016', '15/04/1956', '20/03/1976', '0', '4', '1', '2', '1', '0', '', '0', '222.52', '0', '0', '0', '0', '1', '0', '0', '2004', '80', '599', '7068', '0', 'P', 'NA', '190']\n"
     ]
    }
   ],
   "source": [
    "first_row = list(raw_data.iloc[0])[0].split(';')\n",
    "print(first_row)"
   ]
  },
  {
   "cell_type": "code",
   "execution_count": 8,
   "id": "34d09859",
   "metadata": {},
   "outputs": [
    {
     "data": {
      "text/html": [
       "<div>\n",
       "<style scoped>\n",
       "    .dataframe tbody tr th:only-of-type {\n",
       "        vertical-align: middle;\n",
       "    }\n",
       "\n",
       "    .dataframe tbody tr th {\n",
       "        vertical-align: top;\n",
       "    }\n",
       "\n",
       "    .dataframe thead th {\n",
       "        text-align: right;\n",
       "    }\n",
       "</style>\n",
       "<table border=\"1\" class=\"dataframe\">\n",
       "  <thead>\n",
       "    <tr style=\"text-align: right;\">\n",
       "      <th></th>\n",
       "      <th>ID</th>\n",
       "      <th>Date_start_contract</th>\n",
       "      <th>Date_last_renewal</th>\n",
       "      <th>Date_next_renewal</th>\n",
       "      <th>Date_birth</th>\n",
       "      <th>Date_driving_licence</th>\n",
       "      <th>Distribution_channel</th>\n",
       "      <th>Seniority</th>\n",
       "      <th>Policies_in_force</th>\n",
       "      <th>Max_policies</th>\n",
       "      <th>...</th>\n",
       "      <th>Area</th>\n",
       "      <th>Second_driver</th>\n",
       "      <th>Year_matriculation</th>\n",
       "      <th>Power</th>\n",
       "      <th>Cylinder_capacity</th>\n",
       "      <th>Value_vehicle</th>\n",
       "      <th>N_doors</th>\n",
       "      <th>Type_fuel</th>\n",
       "      <th>Length</th>\n",
       "      <th>Weight</th>\n",
       "    </tr>\n",
       "  </thead>\n",
       "  <tbody>\n",
       "  </tbody>\n",
       "</table>\n",
       "<p>0 rows × 30 columns</p>\n",
       "</div>"
      ],
      "text/plain": [
       "Empty DataFrame\n",
       "Columns: [ID, Date_start_contract, Date_last_renewal, Date_next_renewal, Date_birth, Date_driving_licence, Distribution_channel, Seniority, Policies_in_force, Max_policies, Max_products, Lapse, Date_lapse, Payment, Premium, Cost_claims_year, N_claims_year, N_claims_history, R_Claims_history, Type_risk, Area, Second_driver, Year_matriculation, Power, Cylinder_capacity, Value_vehicle, N_doors, Type_fuel, Length, Weight]\n",
       "Index: []\n",
       "\n",
       "[0 rows x 30 columns]"
      ]
     },
     "execution_count": 8,
     "metadata": {},
     "output_type": "execute_result"
    }
   ],
   "source": [
    "#create new dataframe with correct columns\n",
    "new_data = pd.DataFrame(columns = columns_list)\n",
    "new_data"
   ]
  },
  {
   "cell_type": "code",
   "execution_count": 9,
   "id": "e4f878b0",
   "metadata": {},
   "outputs": [],
   "source": [
    "#create a while loop to reinsert data by columns in the new dataframe and export to csv for future use\n",
    "a = 0\n",
    "while a < raw_data.shape[0]:\n",
    "    current_val = list(raw_data.iloc[a])[0].split(';')\n",
    "    new_data.loc[a] = current_val\n",
    "    a += 1\n"
   ]
  },
  {
   "cell_type": "code",
   "execution_count": 51,
   "id": "9de23a06",
   "metadata": {},
   "outputs": [],
   "source": [
    "new_data.to_csv('exports/updated_automotive_data.csv', index=False)"
   ]
  },
  {
   "cell_type": "code",
   "execution_count": 52,
   "id": "ffba4399",
   "metadata": {},
   "outputs": [
    {
     "name": "stdout",
     "output_type": "stream",
     "text": [
      "<class 'pandas.core.frame.DataFrame'>\n",
      "RangeIndex: 105555 entries, 0 to 105554\n",
      "Data columns (total 30 columns):\n",
      " #   Column                Non-Null Count   Dtype  \n",
      "---  ------                --------------   -----  \n",
      " 0   ID                    105555 non-null  int64  \n",
      " 1   Date_start_contract   105555 non-null  object \n",
      " 2   Date_last_renewal     105555 non-null  object \n",
      " 3   Date_next_renewal     105555 non-null  object \n",
      " 4   Date_birth            105555 non-null  object \n",
      " 5   Date_driving_licence  105555 non-null  object \n",
      " 6   Distribution_channel  105555 non-null  object \n",
      " 7   Seniority             105555 non-null  int64  \n",
      " 8   Policies_in_force     105555 non-null  int64  \n",
      " 9   Max_policies          105555 non-null  int64  \n",
      " 10  Max_products          105555 non-null  int64  \n",
      " 11  Lapse                 105555 non-null  int64  \n",
      " 12  Date_lapse            35147 non-null   object \n",
      " 13  Payment               105555 non-null  int64  \n",
      " 14  Premium               105555 non-null  float64\n",
      " 15  Cost_claims_year      105555 non-null  float64\n",
      " 16  N_claims_year         105555 non-null  int64  \n",
      " 17  N_claims_history      105555 non-null  int64  \n",
      " 18  R_Claims_history      105555 non-null  float64\n",
      " 19  Type_risk             105555 non-null  int64  \n",
      " 20  Area                  105555 non-null  int64  \n",
      " 21  Second_driver         105555 non-null  int64  \n",
      " 22  Year_matriculation    105555 non-null  int64  \n",
      " 23  Power                 105555 non-null  int64  \n",
      " 24  Cylinder_capacity     105555 non-null  int64  \n",
      " 25  Value_vehicle         105555 non-null  float64\n",
      " 26  N_doors               105555 non-null  int64  \n",
      " 27  Type_fuel             103791 non-null  object \n",
      " 28  Length                95226 non-null   float64\n",
      " 29  Weight                105555 non-null  int64  \n",
      "dtypes: float64(5), int64(17), object(8)\n",
      "memory usage: 24.2+ MB\n"
     ]
    },
    {
     "name": "stderr",
     "output_type": "stream",
     "text": [
      "/var/folders/k7/_jdxw9bx3_7cybsnkxz0pr200000gn/T/ipykernel_44923/259744221.py:2: DtypeWarning: Columns (6) have mixed types. Specify dtype option on import or set low_memory=False.\n",
      "  data_import = pd.read_csv('exports/updated_automotive_data.csv')\n"
     ]
    }
   ],
   "source": [
    "#reimport the new csv file\n",
    "data_import = pd.read_csv('exports/updated_automotive_data.csv')\n",
    "data_import.info()"
   ]
  },
  {
   "cell_type": "code",
   "execution_count": 13,
   "id": "37560369",
   "metadata": {},
   "outputs": [
    {
     "name": "stdout",
     "output_type": "stream",
     "text": [
      "['Date_start_contract', 'Date_last_renewal', 'Date_next_renewal', 'Date_birth', 'Date_driving_licence', 'Date_lapse']\n"
     ]
    }
   ],
   "source": [
    "#create a list of columns that need to be updated to datetime\n",
    "date_cols_index = [1,2,3,4,5,12]\n",
    "date_cols = []\n",
    "for i in date_cols_index:\n",
    "    date_cols.append(columns_list[i])\n",
    "print(date_cols)"
   ]
  },
  {
   "cell_type": "code",
   "execution_count": 17,
   "id": "fea9d19f",
   "metadata": {},
   "outputs": [],
   "source": [
    "#update each column in dataframe to correct format for datetime\n",
    "for col in date_cols:\n",
    "    test_date = pd.to_datetime(data_import[col], format = '%d/%m/%Y').dt.strftime('%m/%d/%Y')\n",
    "    data_import[col] = test_date\n"
   ]
  },
  {
   "cell_type": "code",
   "execution_count": 20,
   "id": "279eeee3",
   "metadata": {},
   "outputs": [
    {
     "data": {
      "text/plain": [
       "{'Date_start_contract': 'datetime64[ns]',\n",
       " 'Date_last_renewal': 'datetime64[ns]',\n",
       " 'Date_next_renewal': 'datetime64[ns]',\n",
       " 'Date_birth': 'datetime64[ns]',\n",
       " 'Date_driving_licence': 'datetime64[ns]',\n",
       " 'Date_lapse': 'datetime64[ns]'}"
      ]
     },
     "execution_count": 20,
     "metadata": {},
     "output_type": "execute_result"
    }
   ],
   "source": [
    "#create dictionary to set the datatypes for those columns to datetime\n",
    "date_dict = {}\n",
    "for col in date_cols:\n",
    "    date_dict[col] = 'datetime64[ns]'\n",
    "date_dict"
   ]
  },
  {
   "cell_type": "code",
   "execution_count": 21,
   "id": "c7f89082",
   "metadata": {},
   "outputs": [
    {
     "name": "stdout",
     "output_type": "stream",
     "text": [
      "<class 'pandas.core.frame.DataFrame'>\n",
      "RangeIndex: 105555 entries, 0 to 105554\n",
      "Data columns (total 30 columns):\n",
      " #   Column                Non-Null Count   Dtype         \n",
      "---  ------                --------------   -----         \n",
      " 0   ID                    105555 non-null  int64         \n",
      " 1   Date_start_contract   105555 non-null  datetime64[ns]\n",
      " 2   Date_last_renewal     105555 non-null  datetime64[ns]\n",
      " 3   Date_next_renewal     105555 non-null  datetime64[ns]\n",
      " 4   Date_birth            105555 non-null  datetime64[ns]\n",
      " 5   Date_driving_licence  105555 non-null  datetime64[ns]\n",
      " 6   Distribution_channel  105555 non-null  object        \n",
      " 7   Seniority             105555 non-null  int64         \n",
      " 8   Policies_in_force     105555 non-null  int64         \n",
      " 9   Max_policies          105555 non-null  int64         \n",
      " 10  Max_products          105555 non-null  int64         \n",
      " 11  Lapse                 105555 non-null  int64         \n",
      " 12  Date_lapse            35147 non-null   datetime64[ns]\n",
      " 13  Payment               105555 non-null  int64         \n",
      " 14  Premium               105555 non-null  float64       \n",
      " 15  Cost_claims_year      105555 non-null  float64       \n",
      " 16  N_claims_year         105555 non-null  int64         \n",
      " 17  N_claims_history      105555 non-null  int64         \n",
      " 18  R_Claims_history      105555 non-null  float64       \n",
      " 19  Type_risk             105555 non-null  int64         \n",
      " 20  Area                  105555 non-null  int64         \n",
      " 21  Second_driver         105555 non-null  int64         \n",
      " 22  Year_matriculation    105555 non-null  int64         \n",
      " 23  Power                 105555 non-null  int64         \n",
      " 24  Cylinder_capacity     105555 non-null  int64         \n",
      " 25  Value_vehicle         105555 non-null  float64       \n",
      " 26  N_doors               105555 non-null  int64         \n",
      " 27  Type_fuel             103791 non-null  object        \n",
      " 28  Length                95226 non-null   float64       \n",
      " 29  Weight                105555 non-null  int64         \n",
      "dtypes: datetime64[ns](6), float64(5), int64(17), object(2)\n",
      "memory usage: 24.2+ MB\n"
     ]
    }
   ],
   "source": [
    "#udpate columns datatypes\n",
    "data_import = data_import.astype(date_dict)\n",
    "data_import.info()"
   ]
  },
  {
   "cell_type": "code",
   "execution_count": 26,
   "id": "f26717d3",
   "metadata": {},
   "outputs": [
    {
     "data": {
      "text/plain": [
       "['Distribution_channel',\n",
       " 'Payment',\n",
       " 'Type_risk',\n",
       " 'Area',\n",
       " 'Second_driver',\n",
       " 'Type_fuel']"
      ]
     },
     "execution_count": 26,
     "metadata": {},
     "output_type": "execute_result"
    }
   ],
   "source": [
    "#do the same thing for category columns\n",
    "category_cols_i = [6,13,19,20,21,27]\n",
    "category_cols = []\n",
    "for i in category_cols_i:\n",
    "    category_cols.append(columns_list[i])\n",
    "category_cols"
   ]
  },
  {
   "cell_type": "code",
   "execution_count": 27,
   "id": "c246bbdd",
   "metadata": {},
   "outputs": [
    {
     "data": {
      "text/plain": [
       "{'Distribution_channel': 'category',\n",
       " 'Payment': 'category',\n",
       " 'Type_risk': 'category',\n",
       " 'Area': 'category',\n",
       " 'Second_driver': 'category',\n",
       " 'Type_fuel': 'category'}"
      ]
     },
     "execution_count": 27,
     "metadata": {},
     "output_type": "execute_result"
    }
   ],
   "source": [
    "cat_dict = {}\n",
    "for col in category_cols:\n",
    "    cat_dict[col] = 'category'\n",
    "cat_dict"
   ]
  },
  {
   "cell_type": "code",
   "execution_count": 29,
   "id": "f8edf59a",
   "metadata": {},
   "outputs": [
    {
     "data": {
      "text/html": [
       "<div>\n",
       "<style scoped>\n",
       "    .dataframe tbody tr th:only-of-type {\n",
       "        vertical-align: middle;\n",
       "    }\n",
       "\n",
       "    .dataframe tbody tr th {\n",
       "        vertical-align: top;\n",
       "    }\n",
       "\n",
       "    .dataframe thead th {\n",
       "        text-align: right;\n",
       "    }\n",
       "</style>\n",
       "<table border=\"1\" class=\"dataframe\">\n",
       "  <thead>\n",
       "    <tr style=\"text-align: right;\">\n",
       "      <th></th>\n",
       "      <th>ID</th>\n",
       "      <th>Date_start_contract</th>\n",
       "      <th>Date_last_renewal</th>\n",
       "      <th>Date_next_renewal</th>\n",
       "      <th>Date_birth</th>\n",
       "      <th>Date_driving_licence</th>\n",
       "      <th>Seniority</th>\n",
       "      <th>Policies_in_force</th>\n",
       "      <th>Max_policies</th>\n",
       "      <th>Max_products</th>\n",
       "      <th>...</th>\n",
       "      <th>N_claims_year</th>\n",
       "      <th>N_claims_history</th>\n",
       "      <th>R_Claims_history</th>\n",
       "      <th>Year_matriculation</th>\n",
       "      <th>Power</th>\n",
       "      <th>Cylinder_capacity</th>\n",
       "      <th>Value_vehicle</th>\n",
       "      <th>N_doors</th>\n",
       "      <th>Length</th>\n",
       "      <th>Weight</th>\n",
       "    </tr>\n",
       "  </thead>\n",
       "  <tbody>\n",
       "    <tr>\n",
       "      <th>count</th>\n",
       "      <td>105555.000000</td>\n",
       "      <td>105555</td>\n",
       "      <td>105555</td>\n",
       "      <td>105555</td>\n",
       "      <td>105555</td>\n",
       "      <td>105555</td>\n",
       "      <td>105555.000000</td>\n",
       "      <td>105555.000000</td>\n",
       "      <td>105555.000000</td>\n",
       "      <td>105555.000000</td>\n",
       "      <td>...</td>\n",
       "      <td>105555.000000</td>\n",
       "      <td>105555.000000</td>\n",
       "      <td>105555.000000</td>\n",
       "      <td>105555.000000</td>\n",
       "      <td>105555.000000</td>\n",
       "      <td>105555.000000</td>\n",
       "      <td>105555.000000</td>\n",
       "      <td>105555.000000</td>\n",
       "      <td>95226.000000</td>\n",
       "      <td>105555.000000</td>\n",
       "    </tr>\n",
       "    <tr>\n",
       "      <th>mean</th>\n",
       "      <td>26271.286789</td>\n",
       "      <td>2014-06-26 07:45:33.176069376</td>\n",
       "      <td>2017-06-19 06:14:04.109705728</td>\n",
       "      <td>2018-06-19 08:20:49.077732096</td>\n",
       "      <td>1970-02-20 12:34:16.558192415</td>\n",
       "      <td>1992-09-12 15:59:51.814693632</td>\n",
       "      <td>6.696604</td>\n",
       "      <td>1.455649</td>\n",
       "      <td>1.837232</td>\n",
       "      <td>1.065842</td>\n",
       "      <td>...</td>\n",
       "      <td>0.394695</td>\n",
       "      <td>2.751760</td>\n",
       "      <td>0.425194</td>\n",
       "      <td>2004.728038</td>\n",
       "      <td>92.682611</td>\n",
       "      <td>1617.759367</td>\n",
       "      <td>18413.657243</td>\n",
       "      <td>4.067898</td>\n",
       "      <td>4.252007</td>\n",
       "      <td>1191.262422</td>\n",
       "    </tr>\n",
       "    <tr>\n",
       "      <th>min</th>\n",
       "      <td>1.000000</td>\n",
       "      <td>1980-10-25 00:00:00</td>\n",
       "      <td>2015-11-02 00:00:00</td>\n",
       "      <td>2016-11-02 00:00:00</td>\n",
       "      <td>1918-04-05 00:00:00</td>\n",
       "      <td>1942-10-01 00:00:00</td>\n",
       "      <td>1.000000</td>\n",
       "      <td>1.000000</td>\n",
       "      <td>1.000000</td>\n",
       "      <td>1.000000</td>\n",
       "      <td>...</td>\n",
       "      <td>0.000000</td>\n",
       "      <td>0.000000</td>\n",
       "      <td>0.000000</td>\n",
       "      <td>1950.000000</td>\n",
       "      <td>0.000000</td>\n",
       "      <td>49.000000</td>\n",
       "      <td>270.460000</td>\n",
       "      <td>0.000000</td>\n",
       "      <td>1.978000</td>\n",
       "      <td>43.000000</td>\n",
       "    </tr>\n",
       "    <tr>\n",
       "      <th>25%</th>\n",
       "      <td>12925.000000</td>\n",
       "      <td>2013-04-19 00:00:00</td>\n",
       "      <td>2016-09-05 00:00:00</td>\n",
       "      <td>2017-09-05 00:00:00</td>\n",
       "      <td>1960-11-10 00:00:00</td>\n",
       "      <td>1983-04-13 00:00:00</td>\n",
       "      <td>3.000000</td>\n",
       "      <td>1.000000</td>\n",
       "      <td>1.000000</td>\n",
       "      <td>1.000000</td>\n",
       "      <td>...</td>\n",
       "      <td>0.000000</td>\n",
       "      <td>0.000000</td>\n",
       "      <td>0.000000</td>\n",
       "      <td>2001.000000</td>\n",
       "      <td>75.000000</td>\n",
       "      <td>1390.000000</td>\n",
       "      <td>13127.210000</td>\n",
       "      <td>3.000000</td>\n",
       "      <td>3.999000</td>\n",
       "      <td>1043.000000</td>\n",
       "    </tr>\n",
       "    <tr>\n",
       "      <th>50%</th>\n",
       "      <td>26082.000000</td>\n",
       "      <td>2015-09-20 00:00:00</td>\n",
       "      <td>2017-07-06 00:00:00</td>\n",
       "      <td>2018-07-06 00:00:00</td>\n",
       "      <td>1970-08-11 00:00:00</td>\n",
       "      <td>1993-07-16 00:00:00</td>\n",
       "      <td>4.000000</td>\n",
       "      <td>1.000000</td>\n",
       "      <td>2.000000</td>\n",
       "      <td>1.000000</td>\n",
       "      <td>...</td>\n",
       "      <td>0.000000</td>\n",
       "      <td>1.000000</td>\n",
       "      <td>0.080000</td>\n",
       "      <td>2005.000000</td>\n",
       "      <td>90.000000</td>\n",
       "      <td>1598.000000</td>\n",
       "      <td>17608.770000</td>\n",
       "      <td>5.000000</td>\n",
       "      <td>4.230000</td>\n",
       "      <td>1205.000000</td>\n",
       "    </tr>\n",
       "    <tr>\n",
       "      <th>75%</th>\n",
       "      <td>39754.000000</td>\n",
       "      <td>2017-03-01 00:00:00</td>\n",
       "      <td>2018-04-06 00:00:00</td>\n",
       "      <td>2019-04-06 00:00:00</td>\n",
       "      <td>1980-03-03 00:00:00</td>\n",
       "      <td>2003-01-24 00:00:00</td>\n",
       "      <td>9.000000</td>\n",
       "      <td>2.000000</td>\n",
       "      <td>2.000000</td>\n",
       "      <td>1.000000</td>\n",
       "      <td>...</td>\n",
       "      <td>0.000000</td>\n",
       "      <td>4.000000</td>\n",
       "      <td>0.590000</td>\n",
       "      <td>2008.000000</td>\n",
       "      <td>110.000000</td>\n",
       "      <td>1910.000000</td>\n",
       "      <td>22595.000000</td>\n",
       "      <td>5.000000</td>\n",
       "      <td>4.443000</td>\n",
       "      <td>1388.000000</td>\n",
       "    </tr>\n",
       "    <tr>\n",
       "      <th>max</th>\n",
       "      <td>53502.000000</td>\n",
       "      <td>2018-11-30 00:00:00</td>\n",
       "      <td>2018-11-30 00:00:00</td>\n",
       "      <td>2019-11-30 00:00:00</td>\n",
       "      <td>2000-10-11 00:00:00</td>\n",
       "      <td>2018-11-26 00:00:00</td>\n",
       "      <td>40.000000</td>\n",
       "      <td>17.000000</td>\n",
       "      <td>17.000000</td>\n",
       "      <td>4.000000</td>\n",
       "      <td>...</td>\n",
       "      <td>25.000000</td>\n",
       "      <td>52.000000</td>\n",
       "      <td>26.070000</td>\n",
       "      <td>2018.000000</td>\n",
       "      <td>580.000000</td>\n",
       "      <td>7480.000000</td>\n",
       "      <td>220675.800000</td>\n",
       "      <td>6.000000</td>\n",
       "      <td>8.218000</td>\n",
       "      <td>7300.000000</td>\n",
       "    </tr>\n",
       "    <tr>\n",
       "      <th>std</th>\n",
       "      <td>15388.309324</td>\n",
       "      <td>NaN</td>\n",
       "      <td>NaN</td>\n",
       "      <td>NaN</td>\n",
       "      <td>NaN</td>\n",
       "      <td>NaN</td>\n",
       "      <td>6.263911</td>\n",
       "      <td>0.928427</td>\n",
       "      <td>1.155536</td>\n",
       "      <td>0.267807</td>\n",
       "      <td>...</td>\n",
       "      <td>1.105018</td>\n",
       "      <td>3.881621</td>\n",
       "      <td>0.714883</td>\n",
       "      <td>6.767037</td>\n",
       "      <td>37.012645</td>\n",
       "      <td>604.697382</td>\n",
       "      <td>9135.074235</td>\n",
       "      <td>1.511839</td>\n",
       "      <td>0.393220</td>\n",
       "      <td>458.081834</td>\n",
       "    </tr>\n",
       "  </tbody>\n",
       "</table>\n",
       "<p>8 rows × 24 columns</p>\n",
       "</div>"
      ],
      "text/plain": [
       "                  ID            Date_start_contract  \\\n",
       "count  105555.000000                         105555   \n",
       "mean    26271.286789  2014-06-26 07:45:33.176069376   \n",
       "min         1.000000            1980-10-25 00:00:00   \n",
       "25%     12925.000000            2013-04-19 00:00:00   \n",
       "50%     26082.000000            2015-09-20 00:00:00   \n",
       "75%     39754.000000            2017-03-01 00:00:00   \n",
       "max     53502.000000            2018-11-30 00:00:00   \n",
       "std     15388.309324                            NaN   \n",
       "\n",
       "                   Date_last_renewal              Date_next_renewal  \\\n",
       "count                         105555                         105555   \n",
       "mean   2017-06-19 06:14:04.109705728  2018-06-19 08:20:49.077732096   \n",
       "min              2015-11-02 00:00:00            2016-11-02 00:00:00   \n",
       "25%              2016-09-05 00:00:00            2017-09-05 00:00:00   \n",
       "50%              2017-07-06 00:00:00            2018-07-06 00:00:00   \n",
       "75%              2018-04-06 00:00:00            2019-04-06 00:00:00   \n",
       "max              2018-11-30 00:00:00            2019-11-30 00:00:00   \n",
       "std                              NaN                            NaN   \n",
       "\n",
       "                          Date_birth           Date_driving_licence  \\\n",
       "count                         105555                         105555   \n",
       "mean   1970-02-20 12:34:16.558192415  1992-09-12 15:59:51.814693632   \n",
       "min              1918-04-05 00:00:00            1942-10-01 00:00:00   \n",
       "25%              1960-11-10 00:00:00            1983-04-13 00:00:00   \n",
       "50%              1970-08-11 00:00:00            1993-07-16 00:00:00   \n",
       "75%              1980-03-03 00:00:00            2003-01-24 00:00:00   \n",
       "max              2000-10-11 00:00:00            2018-11-26 00:00:00   \n",
       "std                              NaN                            NaN   \n",
       "\n",
       "           Seniority  Policies_in_force   Max_policies   Max_products  ...  \\\n",
       "count  105555.000000      105555.000000  105555.000000  105555.000000  ...   \n",
       "mean        6.696604           1.455649       1.837232       1.065842  ...   \n",
       "min         1.000000           1.000000       1.000000       1.000000  ...   \n",
       "25%         3.000000           1.000000       1.000000       1.000000  ...   \n",
       "50%         4.000000           1.000000       2.000000       1.000000  ...   \n",
       "75%         9.000000           2.000000       2.000000       1.000000  ...   \n",
       "max        40.000000          17.000000      17.000000       4.000000  ...   \n",
       "std         6.263911           0.928427       1.155536       0.267807  ...   \n",
       "\n",
       "       N_claims_year N_claims_history  R_Claims_history  Year_matriculation  \\\n",
       "count  105555.000000    105555.000000     105555.000000       105555.000000   \n",
       "mean        0.394695         2.751760          0.425194         2004.728038   \n",
       "min         0.000000         0.000000          0.000000         1950.000000   \n",
       "25%         0.000000         0.000000          0.000000         2001.000000   \n",
       "50%         0.000000         1.000000          0.080000         2005.000000   \n",
       "75%         0.000000         4.000000          0.590000         2008.000000   \n",
       "max        25.000000        52.000000         26.070000         2018.000000   \n",
       "std         1.105018         3.881621          0.714883            6.767037   \n",
       "\n",
       "               Power  Cylinder_capacity  Value_vehicle        N_doors  \\\n",
       "count  105555.000000      105555.000000  105555.000000  105555.000000   \n",
       "mean       92.682611        1617.759367   18413.657243       4.067898   \n",
       "min         0.000000          49.000000     270.460000       0.000000   \n",
       "25%        75.000000        1390.000000   13127.210000       3.000000   \n",
       "50%        90.000000        1598.000000   17608.770000       5.000000   \n",
       "75%       110.000000        1910.000000   22595.000000       5.000000   \n",
       "max       580.000000        7480.000000  220675.800000       6.000000   \n",
       "std        37.012645         604.697382    9135.074235       1.511839   \n",
       "\n",
       "             Length         Weight  \n",
       "count  95226.000000  105555.000000  \n",
       "mean       4.252007    1191.262422  \n",
       "min        1.978000      43.000000  \n",
       "25%        3.999000    1043.000000  \n",
       "50%        4.230000    1205.000000  \n",
       "75%        4.443000    1388.000000  \n",
       "max        8.218000    7300.000000  \n",
       "std        0.393220     458.081834  \n",
       "\n",
       "[8 rows x 24 columns]"
      ]
     },
     "execution_count": 29,
     "metadata": {},
     "output_type": "execute_result"
    }
   ],
   "source": [
    "data_import = data_import.astype(cat_dict)\n",
    "data_import.describe()"
   ]
  },
  {
   "cell_type": "code",
   "execution_count": 38,
   "id": "c207bf4c",
   "metadata": {},
   "outputs": [
    {
     "data": {
      "text/plain": [
       "ID                          0\n",
       "Date_start_contract         0\n",
       "Date_last_renewal           0\n",
       "Date_next_renewal           0\n",
       "Date_birth                  0\n",
       "Date_driving_licence        0\n",
       "Distribution_channel        0\n",
       "Seniority                   0\n",
       "Policies_in_force           0\n",
       "Max_policies                0\n",
       "Max_products                0\n",
       "Lapse                       0\n",
       "Date_lapse              70408\n",
       "Payment                     0\n",
       "Premium                     0\n",
       "Cost_claims_year            0\n",
       "N_claims_year               0\n",
       "N_claims_history            0\n",
       "R_Claims_history            0\n",
       "Type_risk                   0\n",
       "Area                        0\n",
       "Second_driver               0\n",
       "Year_matriculation          0\n",
       "Power                       0\n",
       "Cylinder_capacity           0\n",
       "Value_vehicle               0\n",
       "N_doors                     0\n",
       "Type_fuel                1764\n",
       "Length                  10329\n",
       "Weight                      0\n",
       "dtype: int64"
      ]
     },
     "execution_count": 38,
     "metadata": {},
     "output_type": "execute_result"
    }
   ],
   "source": [
    "data_import.isna().sum()"
   ]
  },
  {
   "cell_type": "code",
   "execution_count": 43,
   "id": "d66de801",
   "metadata": {},
   "outputs": [],
   "source": [
    "#drop the rows missing Type_fuel as it was less than 2% of the rows\n",
    "data_import_drop_fuel = data_import.dropna(subset = ['Type_fuel'])"
   ]
  },
  {
   "cell_type": "code",
   "execution_count": 45,
   "id": "8bda8403",
   "metadata": {},
   "outputs": [
    {
     "name": "stdout",
     "output_type": "stream",
     "text": [
      "<class 'pandas.core.frame.DataFrame'>\n",
      "Index: 103791 entries, 0 to 105554\n",
      "Data columns (total 30 columns):\n",
      " #   Column                Non-Null Count   Dtype         \n",
      "---  ------                --------------   -----         \n",
      " 0   ID                    103791 non-null  int64         \n",
      " 1   Date_start_contract   103791 non-null  datetime64[ns]\n",
      " 2   Date_last_renewal     103791 non-null  datetime64[ns]\n",
      " 3   Date_next_renewal     103791 non-null  datetime64[ns]\n",
      " 4   Date_birth            103791 non-null  datetime64[ns]\n",
      " 5   Date_driving_licence  103791 non-null  datetime64[ns]\n",
      " 6   Distribution_channel  103791 non-null  category      \n",
      " 7   Seniority             103791 non-null  int64         \n",
      " 8   Policies_in_force     103791 non-null  int64         \n",
      " 9   Max_policies          103791 non-null  int64         \n",
      " 10  Max_products          103791 non-null  int64         \n",
      " 11  Lapse                 103791 non-null  int64         \n",
      " 12  Date_lapse            34707 non-null   datetime64[ns]\n",
      " 13  Payment               103791 non-null  category      \n",
      " 14  Premium               103791 non-null  float64       \n",
      " 15  Cost_claims_year      103791 non-null  float64       \n",
      " 16  N_claims_year         103791 non-null  int64         \n",
      " 17  N_claims_history      103791 non-null  int64         \n",
      " 18  R_Claims_history      103791 non-null  float64       \n",
      " 19  Type_risk             103791 non-null  category      \n",
      " 20  Area                  103791 non-null  category      \n",
      " 21  Second_driver         103791 non-null  category      \n",
      " 22  Year_matriculation    103791 non-null  int64         \n",
      " 23  Power                 103791 non-null  int64         \n",
      " 24  Cylinder_capacity     103791 non-null  int64         \n",
      " 25  Value_vehicle         103791 non-null  float64       \n",
      " 26  N_doors               103791 non-null  int64         \n",
      " 27  Type_fuel             103791 non-null  category      \n",
      " 28  Length                95226 non-null   float64       \n",
      " 29  Weight                103791 non-null  int64         \n",
      "dtypes: category(6), datetime64[ns](6), float64(5), int64(13)\n",
      "memory usage: 20.4 MB\n"
     ]
    }
   ],
   "source": [
    "data_import_drop_fuel.info()"
   ]
  },
  {
   "cell_type": "markdown",
   "id": "b81069b8",
   "metadata": {},
   "source": [
    "Check to see if there is a one to one relationship between lapse and date_lapse"
   ]
  },
  {
   "cell_type": "code",
   "execution_count": null,
   "id": "5cc60de6",
   "metadata": {},
   "outputs": [],
   "source": [
    "potential to "
   ]
  }
 ],
 "metadata": {
  "kernelspec": {
   "display_name": "Python 3 (ipykernel)",
   "language": "python",
   "name": "python3"
  },
  "language_info": {
   "codemirror_mode": {
    "name": "ipython",
    "version": 3
   },
   "file_extension": ".py",
   "mimetype": "text/x-python",
   "name": "python",
   "nbconvert_exporter": "python",
   "pygments_lexer": "ipython3",
   "version": "3.11.5"
  }
 },
 "nbformat": 4,
 "nbformat_minor": 5
}
